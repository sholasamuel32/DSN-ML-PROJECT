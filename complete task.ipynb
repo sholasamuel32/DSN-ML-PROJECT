{
 "cells": [
  {
   "cell_type": "code",
   "execution_count": 58,
   "id": "27dbca87",
   "metadata": {},
   "outputs": [],
   "source": [
    "import pandas as pd\n",
    "import numpy as np\n",
    "from pandas import get_dummies\n",
    "from sklearn.preprocessing import MinMaxScaler"
   ]
  },
  {
   "cell_type": "code",
   "execution_count": 59,
   "id": "2d9920fa",
   "metadata": {},
   "outputs": [],
   "source": [
    "df = pd.read_csv(\"train.csv\")"
   ]
  },
  {
   "cell_type": "code",
   "execution_count": 60,
   "id": "6c96a7c5",
   "metadata": {},
   "outputs": [
    {
     "name": "stdout",
     "output_type": "stream",
     "text": [
      "<class 'pandas.core.frame.DataFrame'>\n",
      "RangeIndex: 7205 entries, 0 to 7204\n",
      "Data columns (total 9 columns):\n",
      " #   Column                  Non-Null Count  Dtype  \n",
      "---  ------                  --------------  -----  \n",
      " 0   VehicleID               7205 non-null   object \n",
      " 1   Location                7205 non-null   object \n",
      " 2   Maker                   7205 non-null   object \n",
      " 3   Model                   7205 non-null   object \n",
      " 4   Year                    7184 non-null   object \n",
      " 5   Colour                  7205 non-null   object \n",
      " 6   Amount (Million Naira)  7188 non-null   float64\n",
      " 7   Type                    7008 non-null   object \n",
      " 8   Distance                4845 non-null   object \n",
      "dtypes: float64(1), object(8)\n",
      "memory usage: 506.7+ KB\n"
     ]
    }
   ],
   "source": [
    "df.info()"
   ]
  },
  {
   "cell_type": "code",
   "execution_count": 61,
   "id": "125a06df",
   "metadata": {},
   "outputs": [],
   "source": [
    "df.Year = df.Year.fillna(value = \"2008\")"
   ]
  },
  {
   "cell_type": "code",
   "execution_count": 62,
   "id": "27b00ae4",
   "metadata": {},
   "outputs": [
    {
     "data": {
      "text/plain": [
       "0"
      ]
     },
     "execution_count": 62,
     "metadata": {},
     "output_type": "execute_result"
    }
   ],
   "source": [
    "df.Year.isnull().sum()"
   ]
  },
  {
   "cell_type": "code",
   "execution_count": 63,
   "id": "b68d0ecb",
   "metadata": {},
   "outputs": [
    {
     "name": "stdout",
     "output_type": "stream",
     "text": [
      "<class 'pandas.core.frame.DataFrame'>\n",
      "RangeIndex: 7205 entries, 0 to 7204\n",
      "Data columns (total 9 columns):\n",
      " #   Column                  Non-Null Count  Dtype  \n",
      "---  ------                  --------------  -----  \n",
      " 0   VehicleID               7205 non-null   object \n",
      " 1   Location                7205 non-null   object \n",
      " 2   Maker                   7205 non-null   object \n",
      " 3   Model                   7205 non-null   object \n",
      " 4   Year                    7205 non-null   object \n",
      " 5   Colour                  7205 non-null   object \n",
      " 6   Amount (Million Naira)  7188 non-null   float64\n",
      " 7   Type                    7008 non-null   object \n",
      " 8   Distance                4845 non-null   object \n",
      "dtypes: float64(1), object(8)\n",
      "memory usage: 506.7+ KB\n"
     ]
    }
   ],
   "source": [
    "df.info()"
   ]
  },
  {
   "cell_type": "code",
   "execution_count": 64,
   "id": "fef66716",
   "metadata": {},
   "outputs": [
    {
     "data": {
      "text/plain": [
       "Foreign Used     4896\n",
       "Nigerian Used    1895\n",
       "Brand New         217\n",
       "Name: Type, dtype: int64"
      ]
     },
     "execution_count": 64,
     "metadata": {},
     "output_type": "execute_result"
    }
   ],
   "source": [
    "df.Type.value_counts()"
   ]
  },
  {
   "cell_type": "code",
   "execution_count": 65,
   "id": "b46f3c14",
   "metadata": {},
   "outputs": [],
   "source": [
    "df.Type = df.Type.fillna(value = 'Foreign Used')"
   ]
  },
  {
   "cell_type": "code",
   "execution_count": 66,
   "id": "0ebd036d",
   "metadata": {},
   "outputs": [
    {
     "data": {
      "text/plain": [
       "0"
      ]
     },
     "execution_count": 66,
     "metadata": {},
     "output_type": "execute_result"
    }
   ],
   "source": [
    "df.Type.isnull().sum()"
   ]
  },
  {
   "cell_type": "code",
   "execution_count": 67,
   "id": "de7af95a",
   "metadata": {},
   "outputs": [
    {
     "name": "stdout",
     "output_type": "stream",
     "text": [
      "<class 'pandas.core.frame.DataFrame'>\n",
      "RangeIndex: 7205 entries, 0 to 7204\n",
      "Data columns (total 9 columns):\n",
      " #   Column                  Non-Null Count  Dtype  \n",
      "---  ------                  --------------  -----  \n",
      " 0   VehicleID               7205 non-null   object \n",
      " 1   Location                7205 non-null   object \n",
      " 2   Maker                   7205 non-null   object \n",
      " 3   Model                   7205 non-null   object \n",
      " 4   Year                    7205 non-null   object \n",
      " 5   Colour                  7205 non-null   object \n",
      " 6   Amount (Million Naira)  7188 non-null   float64\n",
      " 7   Type                    7205 non-null   object \n",
      " 8   Distance                4845 non-null   object \n",
      "dtypes: float64(1), object(8)\n",
      "memory usage: 506.7+ KB\n"
     ]
    }
   ],
   "source": [
    "df.info()"
   ]
  },
  {
   "cell_type": "code",
   "execution_count": 68,
   "id": "1758bbd2",
   "metadata": {},
   "outputs": [
    {
     "data": {
      "text/plain": [
       "75,000     70\n",
       "65,000     54\n",
       "85,000     53\n",
       "100,000    53\n",
       "50,000     47\n",
       "           ..\n",
       "10,559      1\n",
       "56,443      1\n",
       "86,582      1\n",
       "175,294     1\n",
       "83,308      1\n",
       "Name: Distance, Length: 3144, dtype: int64"
      ]
     },
     "execution_count": 68,
     "metadata": {},
     "output_type": "execute_result"
    }
   ],
   "source": [
    "df.Distance.value_counts()"
   ]
  },
  {
   "cell_type": "code",
   "execution_count": 69,
   "id": "d25bdb53",
   "metadata": {},
   "outputs": [],
   "source": [
    "df.Distance = df.Distance.fillna(value ='75,000')"
   ]
  },
  {
   "cell_type": "code",
   "execution_count": 70,
   "id": "79d5d77f",
   "metadata": {},
   "outputs": [
    {
     "name": "stdout",
     "output_type": "stream",
     "text": [
      "<class 'pandas.core.frame.DataFrame'>\n",
      "RangeIndex: 7205 entries, 0 to 7204\n",
      "Data columns (total 9 columns):\n",
      " #   Column                  Non-Null Count  Dtype  \n",
      "---  ------                  --------------  -----  \n",
      " 0   VehicleID               7205 non-null   object \n",
      " 1   Location                7205 non-null   object \n",
      " 2   Maker                   7205 non-null   object \n",
      " 3   Model                   7205 non-null   object \n",
      " 4   Year                    7205 non-null   object \n",
      " 5   Colour                  7205 non-null   object \n",
      " 6   Amount (Million Naira)  7188 non-null   float64\n",
      " 7   Type                    7205 non-null   object \n",
      " 8   Distance                7205 non-null   object \n",
      "dtypes: float64(1), object(8)\n",
      "memory usage: 506.7+ KB\n"
     ]
    }
   ],
   "source": [
    "df.info()"
   ]
  },
  {
   "cell_type": "code",
   "execution_count": 71,
   "id": "5fe064e9",
   "metadata": {},
   "outputs": [],
   "source": [
    "df.drop(\"VehicleID\", axis = 1, inplace  = True)"
   ]
  },
  {
   "cell_type": "code",
   "execution_count": 72,
   "id": "23f9adcd",
   "metadata": {},
   "outputs": [],
   "source": [
    "df.drop(\"Model\", axis = 1, inplace  = True)"
   ]
  },
  {
   "cell_type": "code",
   "execution_count": 73,
   "id": "c4933358",
   "metadata": {},
   "outputs": [],
   "source": [
    "import seaborn as sns"
   ]
  },
  {
   "cell_type": "code",
   "execution_count": null,
   "id": "e3c98e9e",
   "metadata": {},
   "outputs": [],
   "source": []
  },
  {
   "cell_type": "code",
   "execution_count": null,
   "id": "6a5c4756",
   "metadata": {},
   "outputs": [],
   "source": []
  },
  {
   "cell_type": "code",
   "execution_count": 74,
   "id": "1e78d74b",
   "metadata": {},
   "outputs": [
    {
     "data": {
      "text/plain": [
       "17"
      ]
     },
     "execution_count": 74,
     "metadata": {},
     "output_type": "execute_result"
    }
   ],
   "source": [
    "df[\"Amount (Million Naira)\"].isnull().sum()"
   ]
  },
  {
   "cell_type": "code",
   "execution_count": 75,
   "id": "8d71f1ef",
   "metadata": {},
   "outputs": [],
   "source": [
    "mean = np.mean(df[\"Amount (Million Naira)\"])"
   ]
  },
  {
   "cell_type": "code",
   "execution_count": 76,
   "id": "858e6cfb",
   "metadata": {},
   "outputs": [
    {
     "data": {
      "text/plain": [
       "11.847999443516994"
      ]
     },
     "execution_count": 76,
     "metadata": {},
     "output_type": "execute_result"
    }
   ],
   "source": [
    "mean"
   ]
  },
  {
   "cell_type": "code",
   "execution_count": 77,
   "id": "8744c64c",
   "metadata": {},
   "outputs": [],
   "source": [
    "df[\"Amount (Million Naira)\"] = df[\"Amount (Million Naira)\"].fillna(value = 11.847999443516994)"
   ]
  },
  {
   "cell_type": "code",
   "execution_count": 78,
   "id": "85b21566",
   "metadata": {},
   "outputs": [
    {
     "data": {
      "text/plain": [
       "0"
      ]
     },
     "execution_count": 78,
     "metadata": {},
     "output_type": "execute_result"
    }
   ],
   "source": [
    "df[\"Amount (Million Naira)\"].isnull().sum()"
   ]
  },
  {
   "cell_type": "code",
   "execution_count": 79,
   "id": "f66c8725",
   "metadata": {},
   "outputs": [
    {
     "name": "stdout",
     "output_type": "stream",
     "text": [
      "<class 'pandas.core.frame.DataFrame'>\n",
      "RangeIndex: 7205 entries, 0 to 7204\n",
      "Data columns (total 7 columns):\n",
      " #   Column                  Non-Null Count  Dtype  \n",
      "---  ------                  --------------  -----  \n",
      " 0   Location                7205 non-null   object \n",
      " 1   Maker                   7205 non-null   object \n",
      " 2   Year                    7205 non-null   object \n",
      " 3   Colour                  7205 non-null   object \n",
      " 4   Amount (Million Naira)  7205 non-null   float64\n",
      " 5   Type                    7205 non-null   object \n",
      " 6   Distance                7205 non-null   object \n",
      "dtypes: float64(1), object(6)\n",
      "memory usage: 394.1+ KB\n"
     ]
    }
   ],
   "source": [
    "df.info()"
   ]
  },
  {
   "cell_type": "code",
   "execution_count": 80,
   "id": "edc87ec3",
   "metadata": {},
   "outputs": [
    {
     "name": "stdout",
     "output_type": "stream",
     "text": [
      "Location:['Abuja' 'Ibadan' 'Lagos']\n",
      "\n",
      "Maker:['Honda' 'Hyundai' 'Lexus' 'Mercedes-Benz' 'Toyota' 'Acura' 'Dodge'\n",
      " 'Nissan' 'Kia' 'BMW' 'Volvo' 'Ford' 'Land Rover' 'Lincoln' 'Peugeot'\n",
      " 'Chevrolet' 'Audi' 'Jaguar' 'Infiniti' 'Porsche' 'Fiat' 'Maserati'\n",
      " 'Volkswagen' 'Suzuki' 'Bentley' 'GAC' 'Mazda' 'Scion' 'Renault'\n",
      " 'Mitsubishi' 'Mini' 'Pontiac' 'Cadillac' 'Ferrari' 'Jeep' 'Buick'\n",
      " 'Rolls-Royce' 'GMC' 'Chrysler' 'Lamborghini' 'Citroen' 'King' 'BAW'\n",
      " 'Saturn' 'Tata' 'Opel' 'JAC' 'MG' 'Hummer' 'Subaru' 'Rover' 'Saab'\n",
      " 'Skoda' 'IVM' 'Brabus']\n",
      "\n",
      "Year:['2,011' '2,012' '2,010' '2,017' '2,002' '2,019' '2,015' '2,004' '2,003'\n",
      " '2,008' '2,018' '2,020' '2,006' '2,016' '2,014' '2,007' '2,009' '2,005'\n",
      " '2,021' '2,013' '2,000' '2008' '1,992' '2,001' '1,997' '1,999' '1,993'\n",
      " '1,998' '1,986' '1,996' '2,022' '1,995' '1,979' '1,989']\n",
      "\n",
      "Colour:['Silver' 'Red' 'Blue' 'Black' 'Gold' 'White' 'Gray' 'Burgandy' 'Green'\n",
      " 'Violet' 'Brown' 'Yellow' 'Orange' 'Pink' 'Beige' 'Purple' 'Ivory' 'G'\n",
      " 'Teal' 'Mica' 'Pearl']\n",
      "\n",
      "Amount (Million Naira):[2.20000000e+00 3.50000000e+00 9.20000000e+00 2.28000000e+01\n",
      " 2.60000000e+00 7.50000000e+00 7.90000000e+01 9.00000000e+00\n",
      " 7.76000000e+00 2.50000000e+00 7.20000000e+00 3.26000000e+00\n",
      " 1.91000000e+00 6.95000000e+00 1.70000000e+01 3.55000000e+00\n",
      " 2.20000000e+01 2.30000000e+01 1.40000000e+01 4.90000000e+00\n",
      " 2.48000000e+00 1.60000000e+01 4.60000000e+00 1.50000000e+01\n",
      " 1.18500000e+01 4.10000000e+00 4.50000000e+00 4.20000000e+00\n",
      " 7.80000000e+00 5.90000000e+00 4.00000000e+00 2.40000000e+00\n",
      " 3.00000000e+00 3.20000000e+00 2.66000000e+00 1.15000000e+02\n",
      " 3.30000000e+00 5.50000000e+00 3.85000000e+00 2.30000000e+00\n",
      " 5.89000000e+01 2.80000000e+00 6.50000000e+00 8.25000000e+00\n",
      " 6.80000000e+00 2.08000000e+00 1.46000000e+00 3.60000000e+00\n",
      " 6.85000000e+00 3.75000000e+00 1.00000000e+01 2.81000000e+00\n",
      " 1.80000000e+00 6.75000000e+01 1.50000000e+00 1.69000000e+00\n",
      " 6.73000000e+00 9.50000000e+00 5.78000000e+00 9.70000000e+00\n",
      " 3.80000000e+00 8.44000000e+00 4.45000000e+00 2.90000000e+01\n",
      " 1.12500000e+01 2.05000000e+00 2.15000000e+01 3.59000000e+00\n",
      " 5.40000000e+00 1.06900000e+01 1.19000000e+01 7.40000000e+00\n",
      " 8.68000000e+00 8.50000000e+00 1.20000000e+00 7.31000000e+00\n",
      " 3.95000000e+00 6.00000000e+00 1.08000000e+01 5.20000000e+01\n",
      " 1.65500000e+01 4.50000000e+01 3.90000000e+00 1.95000000e+02\n",
      " 2.70000000e+01 4.35000000e+00 5.60000000e+00 9.90000000e+00\n",
      " 3.15000000e+00 8.70000000e+00 3.40000000e+00 7.90000000e+00\n",
      " 8.00000000e+00 1.02000000e+01 1.05000000e+01 4.39000000e+00\n",
      " 1.90000000e+00 1.40000000e+00 1.20000000e+01 1.39000000e+01\n",
      " 4.70000000e+00 9.10000000e+00 7.65000000e+00 2.25000000e+00\n",
      " 6.20000000e+00 4.00000000e+01 1.63000000e+00 1.25000000e+01\n",
      " 2.00000000e+00 6.70000000e+00 3.38000000e+00 9.56000000e+00\n",
      " 8.75000000e+01 9.80000000e+00 4.25000000e+00 5.30000000e+00\n",
      " 5.25000000e+00 2.70000000e+00 3.55000000e+01 5.80000000e+01\n",
      " 6.65000000e+01 5.16000000e+00 3.58000000e+00 2.59000000e+00\n",
      " 1.45000000e+01 1.63100000e+01 3.20000000e+01 1.15000000e+00\n",
      " 5.10000000e+00 3.25000000e+00 1.32000000e+01 1.18000000e+01\n",
      " 6.25000000e+00 5.80000000e+00 4.30000000e+00 2.85000000e+00\n",
      " 3.94000000e+00 2.50000000e+01 2.80000000e+01 2.55000000e+01\n",
      " 1.35000000e+01 4.30000000e+01 2.75000000e+00 6.45000000e+00\n",
      " 1.01000000e+00 1.98000000e+01 2.03000000e+00 7.00000000e+00\n",
      " 1.55000000e+01 5.65000000e+00 6.30000000e+00 3.82000000e+00\n",
      " 4.40000000e+01 4.65000000e+00 2.90000000e+00 3.35000000e+00\n",
      " 2.40000000e+01 6.60000000e+00 2.10000000e+00 4.95000000e+00\n",
      " 1.20000000e+02 8.80000000e+00 3.04000000e+00 1.65000000e+01\n",
      " 4.95000000e+01 9.75000000e+00 3.70000000e+00 1.65000000e+00\n",
      " 8.65000000e+00 1.13000000e+00 1.60000000e+00 7.65000000e+01\n",
      " 1.15000000e+01 5.70000000e+00 2.00000000e+01 7.70000000e+00\n",
      " 5.20000000e+00 4.80000000e+01 1.75000000e+01 7.40000000e+01\n",
      " 1.18479994e+01 4.80000000e+00 8.85000000e+00 2.95000000e+00\n",
      " 7.30000000e+00 1.07000000e+01 2.10000000e+01 5.30000000e+01\n",
      " 1.62000000e+00 2.05000000e+01 2.35000000e+01 2.25000000e+01\n",
      " 1.22000000e+02 3.45000000e+00 2.95000000e+01 8.30000000e+00\n",
      " 6.05000000e+00 5.88000000e+00 3.80000000e+01 2.65000000e+00\n",
      " 2.85000000e+01 5.85000000e+00 4.27000000e+01 3.37000000e+00\n",
      " 1.80000000e+01 1.85000000e+01 5.00000000e+00 1.42000000e+01\n",
      " 2.36500000e+01 2.60000000e+01 8.19000000e+00 1.95000000e+00\n",
      " 2.38000000e+01 1.10000000e+01 1.57000000e+01 3.30000000e+01\n",
      " 4.05000000e+00 8.20000000e+00 7.10000000e+00 9.15000000e+00\n",
      " 4.40000000e+00 8.90000000e+00 9.90000000e-01 1.30000000e+01\n",
      " 5.35000000e+00 3.00000000e+01 3.50000000e+01 5.34000000e+00\n",
      " 3.65000000e+00 5.90000000e+01 1.24000000e+00 2.45000000e+00\n",
      " 1.90000000e+01 6.40000000e+00 2.29500000e+01 1.35000000e+00\n",
      " 4.85000000e+00 1.33000000e+01 8.55000000e+00 3.10000000e+00\n",
      " 5.74000000e+00 1.12000000e+01 1.74000000e+00 6.80000000e+01\n",
      " 6.85000000e+01 5.95000000e+00 1.28500000e+01 7.05000000e+00\n",
      " 1.30000000e+00 2.42000000e+01 9.40000000e+00 7.35000000e+00\n",
      " 1.68000000e+01 1.45000000e+00 1.95000000e+01 5.61000000e+00\n",
      " 1.26000000e+00 2.14000000e+00 2.93000000e+00 1.82000000e+01\n",
      " 1.29000000e+00 3.27000000e+00 1.58000000e+00 3.90000000e+01\n",
      " 1.85000000e+00 2.30000000e+02 1.37000000e+01 4.20000000e+01\n",
      " 5.00000000e+01 1.78000000e+00 9.30000000e+00 2.89000000e+00\n",
      " 3.18000000e+01 1.22000000e+01 2.01700000e+01 1.52000000e+00\n",
      " 1.52000000e+01 8.40000000e-01 3.93000000e+00 6.08000000e+00\n",
      " 8.90000000e-01 2.58000000e+00 1.17000000e+01 1.96000000e+01\n",
      " 4.16000000e+00 1.47000000e+01 2.75000000e+02 5.29000000e+00\n",
      " 4.73000000e+00 8.50000000e+01 1.48000000e+01 2.15000000e+00\n",
      " 2.68000000e+00 4.75000000e+00 5.55000000e+00 1.16000000e+01\n",
      " 9.00000000e-01 5.63000000e+00 2.55000000e+00 2.67000000e+01\n",
      " 5.50000000e+01 1.38000000e+01 1.47000000e+00 7.60000000e+00\n",
      " 3.15000000e+01 2.35000000e+00 4.79000000e+00 5.75000000e+00\n",
      " 1.18000000e+00 1.10000000e+00 2.79000000e+00 8.90000000e+01\n",
      " 2.28000000e+00 3.65000000e+01 1.99000000e+00 6.10000000e+00\n",
      " 6.51000000e+00 7.00000000e-01 1.63000000e+01 1.13000000e+01\n",
      " 9.23000000e+00 7.25000000e+00 2.81300000e+01 6.35000000e+00\n",
      " 6.90000000e+00 7.75000000e+00 1.73000000e+01 1.70000000e+00\n",
      " 5.07000000e+00 3.70000000e+01 9.60000000e+00 8.60000000e+00\n",
      " 1.40000000e+02 4.75000000e+01 4.42000000e+00 1.38500000e+01\n",
      " 1.57500000e+01 9.50000000e+01 5.51000000e+00 1.26000000e+01\n",
      " 6.75000000e+00 1.19500000e+01 1.58000000e+01 1.55000000e+00\n",
      " 2.38000000e+00 1.83000000e+01 2.65000000e+01 5.45000000e+00\n",
      " 4.77000000e+01 4.49000000e+00 6.00000000e+01 5.06000000e+00\n",
      " 1.39000000e+00 2.45000000e+01 6.50000000e+01 8.70000000e+01\n",
      " 1.09000000e+01 1.05500000e+01 1.05000000e+00 4.15000000e+00\n",
      " 7.85000000e+00 1.21500000e+01 1.07000000e+00 1.46300000e+01\n",
      " 2.87000000e+00 3.09000000e+00 2.43000000e+01 5.10000000e+01\n",
      " 1.14500000e+01 3.28000000e+00 7.15000000e+00 4.50000000e-01\n",
      " 1.23800000e+01 1.49000000e+00 4.04000000e+00 6.68000000e+00\n",
      " 9.00000000e+01 2.69000000e+02 3.60000000e+01 5.76000000e+00\n",
      " 2.33000000e+00 1.35000000e+02 4.28000000e+00 8.99000000e+00\n",
      " 1.28000000e+01 2.28500000e+01 3.71000000e+00 7.95000000e+00\n",
      " 8.07000000e+00 8.00000000e-01 4.56000000e+02 1.98500000e+01\n",
      " 1.75000000e+00 1.06500000e+01 1.87000000e+01 3.12000000e+00\n",
      " 2.92000000e+00 1.25000000e+02 3.61000000e+00 2.36000000e+00\n",
      " 6.38000000e+00 1.04500000e+01 3.88000000e+00 1.32500000e+01\n",
      " 2.40000000e+02 2.75000000e+01 1.92000000e+00 8.10000000e+00\n",
      " 5.62500000e+01 6.20000000e-01 1.76000000e+01 3.45000000e+01\n",
      " 1.27000000e+01 3.42000000e+00 6.19000000e+00 7.38000000e+00\n",
      " 8.41000000e+00 1.78000000e+01 3.68000000e+00 1.43000000e+01\n",
      " 1.88000000e+00 1.24500000e+01 1.97000000e+01 4.55000000e+00\n",
      " 4.90000000e+01 4.23500000e+01 2.00000000e+02 1.00000000e+02\n",
      " 4.70000000e+01 2.99900000e+01 2.54500000e+01 1.79000000e+01\n",
      " 4.32000000e+00 1.94800000e+01 9.45000000e+00 2.98000000e+00\n",
      " 3.05000000e+00 5.15000000e+00 1.42500000e+01 1.01300000e+01\n",
      " 1.31500000e+01 1.08500000e+01 1.88000000e+01 6.20000000e+01\n",
      " 1.25000000e+00 3.44000000e+00 3.99000000e+00 6.39000000e+00\n",
      " 3.48000000e+01 3.83000000e+00 5.45000000e+01 3.48000000e+00\n",
      " 4.84000000e+00 7.88000000e+00 2.95000000e+02 6.80000000e-01\n",
      " 3.86000000e+00 4.60000000e+01 7.90000000e-01 8.00000000e+01\n",
      " 4.98000000e+00 2.85500000e+01 1.91300000e+01 8.40000000e+00\n",
      " 9.60000000e-01 1.56000000e+01 9.85000000e+00 1.68500000e+01\n",
      " 4.83000000e+00 7.09000000e+00 6.90000000e-01 1.94500000e+01\n",
      " 6.58000000e+00 1.69000000e+01 2.63000000e+00 3.49000000e+00\n",
      " 9.65000000e+00 6.34000000e+00 1.39500000e+01 1.75000000e+02\n",
      " 1.29000000e+01 7.50000000e+01 2.62000000e+01 1.15500000e+01\n",
      " 1.25500000e+01 6.18000000e+00 1.00000000e+00 8.79000000e+00\n",
      " 5.28000000e+00 1.03000000e+01 1.48500000e+01 2.84000000e+00\n",
      " 3.33000000e+01 4.02000000e+00 6.70000000e+01 2.37000000e+01\n",
      " 9.79000000e+00 8.20000000e+01 2.53000000e+00 2.92500000e+01\n",
      " 7.29000000e+00 4.35000000e+01 1.72000000e+00 2.69000000e+00\n",
      " 1.98000000e+00 1.70000000e+02 6.91000000e+00 3.00000000e+02\n",
      " 1.86000000e+00 6.41000000e+00 3.10000000e+01 6.09000000e+01\n",
      " 4.39000000e+01 6.78000000e+00 8.46000000e+00 4.89000000e+00\n",
      " 4.99000000e+00 4.61000000e+00 4.66000000e+00 6.53000000e+00\n",
      " 3.95000000e+01 4.65000000e+01 9.10000000e-01 3.53000000e+00\n",
      " 7.55000000e+00 1.97000000e+00 5.60000000e+01 2.49000000e+00\n",
      " 6.17000000e+00 7.80000000e+01 9.35000000e+00 3.85000000e+01\n",
      " 1.22500000e+01 6.50000000e-01 6.89000000e+00 9.50000000e-01\n",
      " 1.73000000e+00 9.25000000e+00 1.42000000e+00 1.89500000e+01\n",
      " 8.52000000e+00 5.09700000e+01 6.55000000e+00 2.97000000e+00\n",
      " 1.95500000e+01 2.68000000e+01 3.47000000e+00 1.23500000e+01\n",
      " 1.06000000e+01 1.48000000e+02 8.75000000e+00 5.38000000e+00\n",
      " 4.25000000e+01 3.49000000e+01 1.02000000e+00 1.23300000e+01\n",
      " 1.12600000e+01 1.44000000e+02 2.12000000e+01 1.89000000e+00\n",
      " 8.45000000e+00 1.09400000e+01 4.44000000e+02 7.45000000e+00\n",
      " 2.47000000e+00 1.08000000e+02 1.59000000e+00 1.05000000e+02\n",
      " 3.35000000e+01 2.48000000e+01 3.03000000e+00 4.45000000e+01\n",
      " 4.78000000e+00 9.80000000e+01 1.89000000e+01 4.48000000e+00\n",
      " 4.21000000e+00 1.66000000e+01 4.68000000e+00 1.57000000e+00\n",
      " 1.60100000e+01 1.23000000e+01 9.88000000e+00 9.55000000e+00\n",
      " 3.62000000e+00 8.40000000e+01 3.17000000e+00 3.19000000e+00\n",
      " 3.77000000e+00 2.61000000e+00 4.50000000e+02 7.30000000e-01\n",
      " 1.14000000e+01 1.72000000e+01 3.75000000e+01 4.38000000e+00\n",
      " 8.49000000e+00 1.13500000e+01 1.45500000e+01 1.68800000e+01\n",
      " 1.24000000e+01 4.13000000e+00 4.55000000e+01 4.88000000e+00\n",
      " 8.78000000e+00 4.58000000e+00 1.16500000e+01 1.92000000e+01\n",
      " 1.34500000e+01 1.06000000e+00 2.67000000e+00 2.24100000e+01\n",
      " 2.58000000e+01 4.52000000e+00 2.45000000e+02 9.30000000e+01\n",
      " 1.36000000e+01 9.95000000e+00 2.05000000e+02 3.40000000e+01\n",
      " 2.53000000e+01 9.20000000e+01 5.05000000e+00 4.27000000e+00\n",
      " 5.37700000e+01 2.31000000e+01 1.28000000e+00 5.40000000e+01\n",
      " 8.35000000e+00 5.60000000e-01 3.98000000e+00 1.32000000e+00\n",
      " 3.33500000e+01 4.46000000e+00 2.65000000e+02 2.76000000e+00\n",
      " 3.89000000e+00 2.34000000e+00 7.99000000e+00 6.65000000e+00\n",
      " 2.13800000e+01 3.54000000e+00 3.23000000e+00 5.98000000e+00\n",
      " 5.83000000e+00 1.30000000e+02 7.45000000e+01 5.98000000e+01\n",
      " 2.39000000e+00 2.80000000e+02 8.70000000e-01 3.80000000e+02\n",
      " 5.39000000e+00 5.35000000e+01 2.17000000e+01 3.32000000e+01\n",
      " 1.61000000e+01 6.30000000e+01 1.37500000e+01 8.95000000e+00\n",
      " 7.69000000e+00 1.87000000e+02 3.12000000e+01 7.33000000e+00\n",
      " 4.30000000e+02 2.38500000e+01 6.00000000e-01 1.56000000e+00\n",
      " 1.41500000e+01 4.68000000e+01 8.50000000e-01 4.54000000e+02\n",
      " 9.62000000e+00 4.86000000e+00 2.07000000e+01 3.21000000e+00\n",
      " 6.15000000e+00 1.67000000e+01 3.25000000e+01 6.60000000e+01\n",
      " 2.98000000e+02 2.08000000e+01 7.00000000e+01 1.19000000e+00\n",
      " 1.88500000e+01 1.08900000e+01 2.79000000e+01 1.56900000e+01\n",
      " 1.65000000e+02 1.34000000e+01 1.85000000e+02 1.43500000e+01\n",
      " 8.05000000e+00 2.86000000e+01 1.47500000e+01 2.90000000e+02\n",
      " 1.96900000e+01 2.70000000e+02 2.98500000e+01 4.38000000e+01\n",
      " 1.45700000e+01 6.45000000e+01 1.32000000e+02 5.62000000e+00\n",
      " 4.94000000e+01 1.88800000e+01 4.71000000e+00 3.05000000e+01\n",
      " 2.25000000e+02 2.49000000e+01 1.40500000e+01 3.97000000e+00\n",
      " 1.12100000e+01 1.50000000e+02 1.64000000e+01 2.63000000e+01\n",
      " 2.03000000e+01 4.10000000e+01 1.53000000e+01 1.31000000e+01\n",
      " 2.18000000e+01 2.31000000e+00 6.77000000e+00 1.74000000e+01\n",
      " 7.70000000e+01 7.30000000e+01 4.44000000e+00 1.49000000e+02\n",
      " 1.28000000e+02 1.29500000e+01 1.44500000e+01 1.35500000e+01\n",
      " 5.70000000e+01 4.33000000e+00 1.77000000e+00 1.46500000e+01\n",
      " 3.93800000e+01 2.97000000e+01 7.54000000e+00 1.29200000e+01\n",
      " 5.06300000e+01 1.55000000e+02 1.91000000e+01]\n",
      "\n",
      "Type:['Nigerian Used' 'Foreign Used' 'Brand New']\n",
      "\n",
      "Distance:['75,000' '125,000' '110,852' ... '114,257' '85,750' '83,308']\n",
      "\n"
     ]
    }
   ],
   "source": [
    "for col in df.columns:\n",
    "    print(col, df[col].unique(), sep = \":\", end = '\\n\\n' )\n",
    "    "
   ]
  },
  {
   "cell_type": "code",
   "execution_count": 81,
   "id": "4074b8c2",
   "metadata": {},
   "outputs": [
    {
     "data": {
      "text/plain": [
       "count      7205\n",
       "unique       34\n",
       "top       2,008\n",
       "freq        755\n",
       "Name: Year, dtype: object"
      ]
     },
     "execution_count": 81,
     "metadata": {},
     "output_type": "execute_result"
    }
   ],
   "source": [
    "df.Year.describe()\n"
   ]
  },
  {
   "cell_type": "code",
   "execution_count": 82,
   "id": "e8c45ceb",
   "metadata": {},
   "outputs": [],
   "source": [
    "from sklearn.preprocessing import LabelEncoder\n",
    "#instantiate --- assign the labelencoder algorithm in to a container\n",
    "lab_enc = LabelEncoder()\n",
    "df[\"Year\"] = lab_enc.fit_transform(df[\"Year\"])\n",
    "df.Distance= lab_enc.fit_transform(df[\"Distance\"])\n",
    "df[\"Colour\"] = lab_enc.fit_transform(df[\"Colour\"])\n",
    "df.Maker= lab_enc.fit_transform(df[\"Maker\"])"
   ]
  },
  {
   "cell_type": "code",
   "execution_count": 83,
   "id": "703bb298",
   "metadata": {},
   "outputs": [
    {
     "data": {
      "text/html": [
       "<div>\n",
       "<style scoped>\n",
       "    .dataframe tbody tr th:only-of-type {\n",
       "        vertical-align: middle;\n",
       "    }\n",
       "\n",
       "    .dataframe tbody tr th {\n",
       "        vertical-align: top;\n",
       "    }\n",
       "\n",
       "    .dataframe thead th {\n",
       "        text-align: right;\n",
       "    }\n",
       "</style>\n",
       "<table border=\"1\" class=\"dataframe\">\n",
       "  <thead>\n",
       "    <tr style=\"text-align: right;\">\n",
       "      <th></th>\n",
       "      <th>Location</th>\n",
       "      <th>Maker</th>\n",
       "      <th>Year</th>\n",
       "      <th>Colour</th>\n",
       "      <th>Amount (Million Naira)</th>\n",
       "      <th>Type</th>\n",
       "      <th>Distance</th>\n",
       "    </tr>\n",
       "  </thead>\n",
       "  <tbody>\n",
       "    <tr>\n",
       "      <th>0</th>\n",
       "      <td>Abuja</td>\n",
       "      <td>17</td>\n",
       "      <td>21</td>\n",
       "      <td>16</td>\n",
       "      <td>2.20</td>\n",
       "      <td>Nigerian Used</td>\n",
       "      <td>2496</td>\n",
       "    </tr>\n",
       "    <tr>\n",
       "      <th>1</th>\n",
       "      <td>Ibadan</td>\n",
       "      <td>19</td>\n",
       "      <td>22</td>\n",
       "      <td>16</td>\n",
       "      <td>3.50</td>\n",
       "      <td>Nigerian Used</td>\n",
       "      <td>466</td>\n",
       "    </tr>\n",
       "    <tr>\n",
       "      <th>2</th>\n",
       "      <td>Lagos</td>\n",
       "      <td>29</td>\n",
       "      <td>20</td>\n",
       "      <td>15</td>\n",
       "      <td>9.20</td>\n",
       "      <td>Foreign Used</td>\n",
       "      <td>235</td>\n",
       "    </tr>\n",
       "    <tr>\n",
       "      <th>3</th>\n",
       "      <td>Abuja</td>\n",
       "      <td>34</td>\n",
       "      <td>27</td>\n",
       "      <td>2</td>\n",
       "      <td>22.80</td>\n",
       "      <td>Foreign Used</td>\n",
       "      <td>1446</td>\n",
       "    </tr>\n",
       "    <tr>\n",
       "      <th>4</th>\n",
       "      <td>Ibadan</td>\n",
       "      <td>52</td>\n",
       "      <td>12</td>\n",
       "      <td>15</td>\n",
       "      <td>2.60</td>\n",
       "      <td>Nigerian Used</td>\n",
       "      <td>470</td>\n",
       "    </tr>\n",
       "    <tr>\n",
       "      <th>...</th>\n",
       "      <td>...</td>\n",
       "      <td>...</td>\n",
       "      <td>...</td>\n",
       "      <td>...</td>\n",
       "      <td>...</td>\n",
       "      <td>...</td>\n",
       "      <td>...</td>\n",
       "    </tr>\n",
       "    <tr>\n",
       "      <th>7200</th>\n",
       "      <td>Abuja</td>\n",
       "      <td>17</td>\n",
       "      <td>28</td>\n",
       "      <td>7</td>\n",
       "      <td>5.70</td>\n",
       "      <td>Foreign Used</td>\n",
       "      <td>2240</td>\n",
       "    </tr>\n",
       "    <tr>\n",
       "      <th>7201</th>\n",
       "      <td>Abuja</td>\n",
       "      <td>3</td>\n",
       "      <td>17</td>\n",
       "      <td>19</td>\n",
       "      <td>4.00</td>\n",
       "      <td>Nigerian Used</td>\n",
       "      <td>1107</td>\n",
       "    </tr>\n",
       "    <tr>\n",
       "      <th>7202</th>\n",
       "      <td>Abuja</td>\n",
       "      <td>52</td>\n",
       "      <td>20</td>\n",
       "      <td>1</td>\n",
       "      <td>2.85</td>\n",
       "      <td>Nigerian Used</td>\n",
       "      <td>2496</td>\n",
       "    </tr>\n",
       "    <tr>\n",
       "      <th>7203</th>\n",
       "      <td>Lagos</td>\n",
       "      <td>34</td>\n",
       "      <td>22</td>\n",
       "      <td>1</td>\n",
       "      <td>8.65</td>\n",
       "      <td>Foreign Used</td>\n",
       "      <td>2783</td>\n",
       "    </tr>\n",
       "    <tr>\n",
       "      <th>7204</th>\n",
       "      <td>Abuja</td>\n",
       "      <td>17</td>\n",
       "      <td>22</td>\n",
       "      <td>7</td>\n",
       "      <td>3.38</td>\n",
       "      <td>Nigerian Used</td>\n",
       "      <td>2699</td>\n",
       "    </tr>\n",
       "  </tbody>\n",
       "</table>\n",
       "<p>7205 rows × 7 columns</p>\n",
       "</div>"
      ],
      "text/plain": [
       "     Location  Maker  Year  Colour  Amount (Million Naira)           Type  \\\n",
       "0       Abuja     17    21      16                    2.20  Nigerian Used   \n",
       "1      Ibadan     19    22      16                    3.50  Nigerian Used   \n",
       "2       Lagos     29    20      15                    9.20   Foreign Used   \n",
       "3       Abuja     34    27       2                   22.80   Foreign Used   \n",
       "4      Ibadan     52    12      15                    2.60  Nigerian Used   \n",
       "...       ...    ...   ...     ...                     ...            ...   \n",
       "7200    Abuja     17    28       7                    5.70   Foreign Used   \n",
       "7201    Abuja      3    17      19                    4.00  Nigerian Used   \n",
       "7202    Abuja     52    20       1                    2.85  Nigerian Used   \n",
       "7203    Lagos     34    22       1                    8.65   Foreign Used   \n",
       "7204    Abuja     17    22       7                    3.38  Nigerian Used   \n",
       "\n",
       "      Distance  \n",
       "0         2496  \n",
       "1          466  \n",
       "2          235  \n",
       "3         1446  \n",
       "4          470  \n",
       "...        ...  \n",
       "7200      2240  \n",
       "7201      1107  \n",
       "7202      2496  \n",
       "7203      2783  \n",
       "7204      2699  \n",
       "\n",
       "[7205 rows x 7 columns]"
      ]
     },
     "execution_count": 83,
     "metadata": {},
     "output_type": "execute_result"
    }
   ],
   "source": [
    "df"
   ]
  },
  {
   "cell_type": "code",
   "execution_count": 84,
   "id": "be0f3cb9",
   "metadata": {},
   "outputs": [],
   "source": [
    "# col_to_encode = ['Type',  'Location', 'Year', 'Maker', 'Colour']\n",
    "col_to_encode = ['Type',  'Location']\n",
    "encoded = get_dummies(df, columns=col_to_encode, prefix='coded', drop_first = True)\n"
   ]
  },
  {
   "cell_type": "code",
   "execution_count": 85,
   "id": "996daf9f",
   "metadata": {},
   "outputs": [
    {
     "data": {
      "text/html": [
       "<div>\n",
       "<style scoped>\n",
       "    .dataframe tbody tr th:only-of-type {\n",
       "        vertical-align: middle;\n",
       "    }\n",
       "\n",
       "    .dataframe tbody tr th {\n",
       "        vertical-align: top;\n",
       "    }\n",
       "\n",
       "    .dataframe thead th {\n",
       "        text-align: right;\n",
       "    }\n",
       "</style>\n",
       "<table border=\"1\" class=\"dataframe\">\n",
       "  <thead>\n",
       "    <tr style=\"text-align: right;\">\n",
       "      <th></th>\n",
       "      <th>Maker</th>\n",
       "      <th>Year</th>\n",
       "      <th>Colour</th>\n",
       "      <th>Amount (Million Naira)</th>\n",
       "      <th>Distance</th>\n",
       "      <th>coded_Foreign Used</th>\n",
       "      <th>coded_Nigerian Used</th>\n",
       "      <th>coded_Ibadan</th>\n",
       "      <th>coded_Lagos</th>\n",
       "    </tr>\n",
       "  </thead>\n",
       "  <tbody>\n",
       "    <tr>\n",
       "      <th>0</th>\n",
       "      <td>17</td>\n",
       "      <td>21</td>\n",
       "      <td>16</td>\n",
       "      <td>2.20</td>\n",
       "      <td>2496</td>\n",
       "      <td>0</td>\n",
       "      <td>1</td>\n",
       "      <td>0</td>\n",
       "      <td>0</td>\n",
       "    </tr>\n",
       "    <tr>\n",
       "      <th>1</th>\n",
       "      <td>19</td>\n",
       "      <td>22</td>\n",
       "      <td>16</td>\n",
       "      <td>3.50</td>\n",
       "      <td>466</td>\n",
       "      <td>0</td>\n",
       "      <td>1</td>\n",
       "      <td>1</td>\n",
       "      <td>0</td>\n",
       "    </tr>\n",
       "    <tr>\n",
       "      <th>2</th>\n",
       "      <td>29</td>\n",
       "      <td>20</td>\n",
       "      <td>15</td>\n",
       "      <td>9.20</td>\n",
       "      <td>235</td>\n",
       "      <td>1</td>\n",
       "      <td>0</td>\n",
       "      <td>0</td>\n",
       "      <td>1</td>\n",
       "    </tr>\n",
       "    <tr>\n",
       "      <th>3</th>\n",
       "      <td>34</td>\n",
       "      <td>27</td>\n",
       "      <td>2</td>\n",
       "      <td>22.80</td>\n",
       "      <td>1446</td>\n",
       "      <td>1</td>\n",
       "      <td>0</td>\n",
       "      <td>0</td>\n",
       "      <td>0</td>\n",
       "    </tr>\n",
       "    <tr>\n",
       "      <th>4</th>\n",
       "      <td>52</td>\n",
       "      <td>12</td>\n",
       "      <td>15</td>\n",
       "      <td>2.60</td>\n",
       "      <td>470</td>\n",
       "      <td>0</td>\n",
       "      <td>1</td>\n",
       "      <td>1</td>\n",
       "      <td>0</td>\n",
       "    </tr>\n",
       "    <tr>\n",
       "      <th>...</th>\n",
       "      <td>...</td>\n",
       "      <td>...</td>\n",
       "      <td>...</td>\n",
       "      <td>...</td>\n",
       "      <td>...</td>\n",
       "      <td>...</td>\n",
       "      <td>...</td>\n",
       "      <td>...</td>\n",
       "      <td>...</td>\n",
       "    </tr>\n",
       "    <tr>\n",
       "      <th>7200</th>\n",
       "      <td>17</td>\n",
       "      <td>28</td>\n",
       "      <td>7</td>\n",
       "      <td>5.70</td>\n",
       "      <td>2240</td>\n",
       "      <td>1</td>\n",
       "      <td>0</td>\n",
       "      <td>0</td>\n",
       "      <td>0</td>\n",
       "    </tr>\n",
       "    <tr>\n",
       "      <th>7201</th>\n",
       "      <td>3</td>\n",
       "      <td>17</td>\n",
       "      <td>19</td>\n",
       "      <td>4.00</td>\n",
       "      <td>1107</td>\n",
       "      <td>0</td>\n",
       "      <td>1</td>\n",
       "      <td>0</td>\n",
       "      <td>0</td>\n",
       "    </tr>\n",
       "    <tr>\n",
       "      <th>7202</th>\n",
       "      <td>52</td>\n",
       "      <td>20</td>\n",
       "      <td>1</td>\n",
       "      <td>2.85</td>\n",
       "      <td>2496</td>\n",
       "      <td>0</td>\n",
       "      <td>1</td>\n",
       "      <td>0</td>\n",
       "      <td>0</td>\n",
       "    </tr>\n",
       "    <tr>\n",
       "      <th>7203</th>\n",
       "      <td>34</td>\n",
       "      <td>22</td>\n",
       "      <td>1</td>\n",
       "      <td>8.65</td>\n",
       "      <td>2783</td>\n",
       "      <td>1</td>\n",
       "      <td>0</td>\n",
       "      <td>0</td>\n",
       "      <td>1</td>\n",
       "    </tr>\n",
       "    <tr>\n",
       "      <th>7204</th>\n",
       "      <td>17</td>\n",
       "      <td>22</td>\n",
       "      <td>7</td>\n",
       "      <td>3.38</td>\n",
       "      <td>2699</td>\n",
       "      <td>0</td>\n",
       "      <td>1</td>\n",
       "      <td>0</td>\n",
       "      <td>0</td>\n",
       "    </tr>\n",
       "  </tbody>\n",
       "</table>\n",
       "<p>7205 rows × 9 columns</p>\n",
       "</div>"
      ],
      "text/plain": [
       "      Maker  Year  Colour  Amount (Million Naira)  Distance  \\\n",
       "0        17    21      16                    2.20      2496   \n",
       "1        19    22      16                    3.50       466   \n",
       "2        29    20      15                    9.20       235   \n",
       "3        34    27       2                   22.80      1446   \n",
       "4        52    12      15                    2.60       470   \n",
       "...     ...   ...     ...                     ...       ...   \n",
       "7200     17    28       7                    5.70      2240   \n",
       "7201      3    17      19                    4.00      1107   \n",
       "7202     52    20       1                    2.85      2496   \n",
       "7203     34    22       1                    8.65      2783   \n",
       "7204     17    22       7                    3.38      2699   \n",
       "\n",
       "      coded_Foreign Used  coded_Nigerian Used  coded_Ibadan  coded_Lagos  \n",
       "0                      0                    1             0            0  \n",
       "1                      0                    1             1            0  \n",
       "2                      1                    0             0            1  \n",
       "3                      1                    0             0            0  \n",
       "4                      0                    1             1            0  \n",
       "...                  ...                  ...           ...          ...  \n",
       "7200                   1                    0             0            0  \n",
       "7201                   0                    1             0            0  \n",
       "7202                   0                    1             0            0  \n",
       "7203                   1                    0             0            1  \n",
       "7204                   0                    1             0            0  \n",
       "\n",
       "[7205 rows x 9 columns]"
      ]
     },
     "execution_count": 85,
     "metadata": {},
     "output_type": "execute_result"
    }
   ],
   "source": [
    "encoded"
   ]
  },
  {
   "cell_type": "code",
   "execution_count": 86,
   "id": "319159c3",
   "metadata": {},
   "outputs": [],
   "source": [
    "X =  encoded.drop(\"Amount (Million Naira)\", axis = 1)\n",
    "y =  encoded[\"Amount (Million Naira)\"]  #data.tip"
   ]
  },
  {
   "cell_type": "code",
   "execution_count": 87,
   "id": "88f3ef3d",
   "metadata": {},
   "outputs": [
    {
     "data": {
      "text/html": [
       "<div>\n",
       "<style scoped>\n",
       "    .dataframe tbody tr th:only-of-type {\n",
       "        vertical-align: middle;\n",
       "    }\n",
       "\n",
       "    .dataframe tbody tr th {\n",
       "        vertical-align: top;\n",
       "    }\n",
       "\n",
       "    .dataframe thead th {\n",
       "        text-align: right;\n",
       "    }\n",
       "</style>\n",
       "<table border=\"1\" class=\"dataframe\">\n",
       "  <thead>\n",
       "    <tr style=\"text-align: right;\">\n",
       "      <th></th>\n",
       "      <th>Maker</th>\n",
       "      <th>Year</th>\n",
       "      <th>Colour</th>\n",
       "      <th>Distance</th>\n",
       "      <th>coded_Foreign Used</th>\n",
       "      <th>coded_Nigerian Used</th>\n",
       "      <th>coded_Ibadan</th>\n",
       "      <th>coded_Lagos</th>\n",
       "    </tr>\n",
       "  </thead>\n",
       "  <tbody>\n",
       "    <tr>\n",
       "      <th>0</th>\n",
       "      <td>17</td>\n",
       "      <td>21</td>\n",
       "      <td>16</td>\n",
       "      <td>2496</td>\n",
       "      <td>0</td>\n",
       "      <td>1</td>\n",
       "      <td>0</td>\n",
       "      <td>0</td>\n",
       "    </tr>\n",
       "    <tr>\n",
       "      <th>1</th>\n",
       "      <td>19</td>\n",
       "      <td>22</td>\n",
       "      <td>16</td>\n",
       "      <td>466</td>\n",
       "      <td>0</td>\n",
       "      <td>1</td>\n",
       "      <td>1</td>\n",
       "      <td>0</td>\n",
       "    </tr>\n",
       "    <tr>\n",
       "      <th>2</th>\n",
       "      <td>29</td>\n",
       "      <td>20</td>\n",
       "      <td>15</td>\n",
       "      <td>235</td>\n",
       "      <td>1</td>\n",
       "      <td>0</td>\n",
       "      <td>0</td>\n",
       "      <td>1</td>\n",
       "    </tr>\n",
       "    <tr>\n",
       "      <th>3</th>\n",
       "      <td>34</td>\n",
       "      <td>27</td>\n",
       "      <td>2</td>\n",
       "      <td>1446</td>\n",
       "      <td>1</td>\n",
       "      <td>0</td>\n",
       "      <td>0</td>\n",
       "      <td>0</td>\n",
       "    </tr>\n",
       "    <tr>\n",
       "      <th>4</th>\n",
       "      <td>52</td>\n",
       "      <td>12</td>\n",
       "      <td>15</td>\n",
       "      <td>470</td>\n",
       "      <td>0</td>\n",
       "      <td>1</td>\n",
       "      <td>1</td>\n",
       "      <td>0</td>\n",
       "    </tr>\n",
       "    <tr>\n",
       "      <th>...</th>\n",
       "      <td>...</td>\n",
       "      <td>...</td>\n",
       "      <td>...</td>\n",
       "      <td>...</td>\n",
       "      <td>...</td>\n",
       "      <td>...</td>\n",
       "      <td>...</td>\n",
       "      <td>...</td>\n",
       "    </tr>\n",
       "    <tr>\n",
       "      <th>7200</th>\n",
       "      <td>17</td>\n",
       "      <td>28</td>\n",
       "      <td>7</td>\n",
       "      <td>2240</td>\n",
       "      <td>1</td>\n",
       "      <td>0</td>\n",
       "      <td>0</td>\n",
       "      <td>0</td>\n",
       "    </tr>\n",
       "    <tr>\n",
       "      <th>7201</th>\n",
       "      <td>3</td>\n",
       "      <td>17</td>\n",
       "      <td>19</td>\n",
       "      <td>1107</td>\n",
       "      <td>0</td>\n",
       "      <td>1</td>\n",
       "      <td>0</td>\n",
       "      <td>0</td>\n",
       "    </tr>\n",
       "    <tr>\n",
       "      <th>7202</th>\n",
       "      <td>52</td>\n",
       "      <td>20</td>\n",
       "      <td>1</td>\n",
       "      <td>2496</td>\n",
       "      <td>0</td>\n",
       "      <td>1</td>\n",
       "      <td>0</td>\n",
       "      <td>0</td>\n",
       "    </tr>\n",
       "    <tr>\n",
       "      <th>7203</th>\n",
       "      <td>34</td>\n",
       "      <td>22</td>\n",
       "      <td>1</td>\n",
       "      <td>2783</td>\n",
       "      <td>1</td>\n",
       "      <td>0</td>\n",
       "      <td>0</td>\n",
       "      <td>1</td>\n",
       "    </tr>\n",
       "    <tr>\n",
       "      <th>7204</th>\n",
       "      <td>17</td>\n",
       "      <td>22</td>\n",
       "      <td>7</td>\n",
       "      <td>2699</td>\n",
       "      <td>0</td>\n",
       "      <td>1</td>\n",
       "      <td>0</td>\n",
       "      <td>0</td>\n",
       "    </tr>\n",
       "  </tbody>\n",
       "</table>\n",
       "<p>7205 rows × 8 columns</p>\n",
       "</div>"
      ],
      "text/plain": [
       "      Maker  Year  Colour  Distance  coded_Foreign Used  coded_Nigerian Used  \\\n",
       "0        17    21      16      2496                   0                    1   \n",
       "1        19    22      16       466                   0                    1   \n",
       "2        29    20      15       235                   1                    0   \n",
       "3        34    27       2      1446                   1                    0   \n",
       "4        52    12      15       470                   0                    1   \n",
       "...     ...   ...     ...       ...                 ...                  ...   \n",
       "7200     17    28       7      2240                   1                    0   \n",
       "7201      3    17      19      1107                   0                    1   \n",
       "7202     52    20       1      2496                   0                    1   \n",
       "7203     34    22       1      2783                   1                    0   \n",
       "7204     17    22       7      2699                   0                    1   \n",
       "\n",
       "      coded_Ibadan  coded_Lagos  \n",
       "0                0            0  \n",
       "1                1            0  \n",
       "2                0            1  \n",
       "3                0            0  \n",
       "4                1            0  \n",
       "...            ...          ...  \n",
       "7200             0            0  \n",
       "7201             0            0  \n",
       "7202             0            0  \n",
       "7203             0            1  \n",
       "7204             0            0  \n",
       "\n",
       "[7205 rows x 8 columns]"
      ]
     },
     "execution_count": 87,
     "metadata": {},
     "output_type": "execute_result"
    }
   ],
   "source": [
    "X"
   ]
  },
  {
   "cell_type": "code",
   "execution_count": 88,
   "id": "53eb5617",
   "metadata": {},
   "outputs": [
    {
     "data": {
      "text/plain": [
       "0        2.20\n",
       "1        3.50\n",
       "2        9.20\n",
       "3       22.80\n",
       "4        2.60\n",
       "        ...  \n",
       "7200     5.70\n",
       "7201     4.00\n",
       "7202     2.85\n",
       "7203     8.65\n",
       "7204     3.38\n",
       "Name: Amount (Million Naira), Length: 7205, dtype: float64"
      ]
     },
     "execution_count": 88,
     "metadata": {},
     "output_type": "execute_result"
    }
   ],
   "source": [
    "y"
   ]
  },
  {
   "cell_type": "code",
   "execution_count": 89,
   "id": "e06d3fe0",
   "metadata": {},
   "outputs": [],
   "source": [
    "scaler = MinMaxScaler()"
   ]
  },
  {
   "cell_type": "code",
   "execution_count": 90,
   "id": "d461f4c9",
   "metadata": {},
   "outputs": [
    {
     "data": {
      "text/plain": [
       "array([[0.31481481, 0.63636364, 0.8       , ..., 1.        , 0.        ,\n",
       "        0.        ],\n",
       "       [0.35185185, 0.66666667, 0.8       , ..., 1.        , 1.        ,\n",
       "        0.        ],\n",
       "       [0.53703704, 0.60606061, 0.75      , ..., 0.        , 0.        ,\n",
       "        1.        ],\n",
       "       ...,\n",
       "       [0.96296296, 0.60606061, 0.05      , ..., 1.        , 0.        ,\n",
       "        0.        ],\n",
       "       [0.62962963, 0.66666667, 0.05      , ..., 0.        , 0.        ,\n",
       "        1.        ],\n",
       "       [0.31481481, 0.66666667, 0.35      , ..., 1.        , 0.        ,\n",
       "        0.        ]])"
      ]
     },
     "execution_count": 90,
     "metadata": {},
     "output_type": "execute_result"
    }
   ],
   "source": [
    "scaled_x = scaler.fit_transform(X) \n",
    "scaled_x"
   ]
  },
  {
   "cell_type": "code",
   "execution_count": 91,
   "id": "c3f87145",
   "metadata": {},
   "outputs": [],
   "source": [
    "scaled_x = pd.DataFrame(data = scaled_x, index = X.index, columns = X.columns)"
   ]
  },
  {
   "cell_type": "code",
   "execution_count": 92,
   "id": "c381ba73",
   "metadata": {},
   "outputs": [
    {
     "data": {
      "text/html": [
       "<div>\n",
       "<style scoped>\n",
       "    .dataframe tbody tr th:only-of-type {\n",
       "        vertical-align: middle;\n",
       "    }\n",
       "\n",
       "    .dataframe tbody tr th {\n",
       "        vertical-align: top;\n",
       "    }\n",
       "\n",
       "    .dataframe thead th {\n",
       "        text-align: right;\n",
       "    }\n",
       "</style>\n",
       "<table border=\"1\" class=\"dataframe\">\n",
       "  <thead>\n",
       "    <tr style=\"text-align: right;\">\n",
       "      <th></th>\n",
       "      <th>Maker</th>\n",
       "      <th>Year</th>\n",
       "      <th>Colour</th>\n",
       "      <th>Distance</th>\n",
       "      <th>coded_Foreign Used</th>\n",
       "      <th>coded_Nigerian Used</th>\n",
       "      <th>coded_Ibadan</th>\n",
       "      <th>coded_Lagos</th>\n",
       "    </tr>\n",
       "  </thead>\n",
       "  <tbody>\n",
       "    <tr>\n",
       "      <th>0</th>\n",
       "      <td>0.314815</td>\n",
       "      <td>0.636364</td>\n",
       "      <td>0.80</td>\n",
       "      <td>0.794146</td>\n",
       "      <td>0.0</td>\n",
       "      <td>1.0</td>\n",
       "      <td>0.0</td>\n",
       "      <td>0.0</td>\n",
       "    </tr>\n",
       "    <tr>\n",
       "      <th>1</th>\n",
       "      <td>0.351852</td>\n",
       "      <td>0.666667</td>\n",
       "      <td>0.80</td>\n",
       "      <td>0.148266</td>\n",
       "      <td>0.0</td>\n",
       "      <td>1.0</td>\n",
       "      <td>1.0</td>\n",
       "      <td>0.0</td>\n",
       "    </tr>\n",
       "    <tr>\n",
       "      <th>2</th>\n",
       "      <td>0.537037</td>\n",
       "      <td>0.606061</td>\n",
       "      <td>0.75</td>\n",
       "      <td>0.074769</td>\n",
       "      <td>1.0</td>\n",
       "      <td>0.0</td>\n",
       "      <td>0.0</td>\n",
       "      <td>1.0</td>\n",
       "    </tr>\n",
       "    <tr>\n",
       "      <th>3</th>\n",
       "      <td>0.629630</td>\n",
       "      <td>0.818182</td>\n",
       "      <td>0.10</td>\n",
       "      <td>0.460070</td>\n",
       "      <td>1.0</td>\n",
       "      <td>0.0</td>\n",
       "      <td>0.0</td>\n",
       "      <td>0.0</td>\n",
       "    </tr>\n",
       "    <tr>\n",
       "      <th>4</th>\n",
       "      <td>0.962963</td>\n",
       "      <td>0.363636</td>\n",
       "      <td>0.75</td>\n",
       "      <td>0.149539</td>\n",
       "      <td>0.0</td>\n",
       "      <td>1.0</td>\n",
       "      <td>1.0</td>\n",
       "      <td>0.0</td>\n",
       "    </tr>\n",
       "  </tbody>\n",
       "</table>\n",
       "</div>"
      ],
      "text/plain": [
       "      Maker      Year  Colour  Distance  coded_Foreign Used  \\\n",
       "0  0.314815  0.636364    0.80  0.794146                 0.0   \n",
       "1  0.351852  0.666667    0.80  0.148266                 0.0   \n",
       "2  0.537037  0.606061    0.75  0.074769                 1.0   \n",
       "3  0.629630  0.818182    0.10  0.460070                 1.0   \n",
       "4  0.962963  0.363636    0.75  0.149539                 0.0   \n",
       "\n",
       "   coded_Nigerian Used  coded_Ibadan  coded_Lagos  \n",
       "0                  1.0           0.0          0.0  \n",
       "1                  1.0           1.0          0.0  \n",
       "2                  0.0           0.0          1.0  \n",
       "3                  0.0           0.0          0.0  \n",
       "4                  1.0           1.0          0.0  "
      ]
     },
     "execution_count": 92,
     "metadata": {},
     "output_type": "execute_result"
    }
   ],
   "source": [
    "scaled_x.head()"
   ]
  },
  {
   "cell_type": "code",
   "execution_count": 93,
   "id": "1c20bc64",
   "metadata": {},
   "outputs": [],
   "source": [
    "from sklearn.model_selection import train_test_split\n",
    "X_train, X_test, y_train, y_test = train_test_split(scaled_x, y, test_size=0.2, random_state=30)"
   ]
  },
  {
   "cell_type": "code",
   "execution_count": 94,
   "id": "79322fc0",
   "metadata": {},
   "outputs": [
    {
     "data": {
      "text/html": [
       "<div>\n",
       "<style scoped>\n",
       "    .dataframe tbody tr th:only-of-type {\n",
       "        vertical-align: middle;\n",
       "    }\n",
       "\n",
       "    .dataframe tbody tr th {\n",
       "        vertical-align: top;\n",
       "    }\n",
       "\n",
       "    .dataframe thead th {\n",
       "        text-align: right;\n",
       "    }\n",
       "</style>\n",
       "<table border=\"1\" class=\"dataframe\">\n",
       "  <thead>\n",
       "    <tr style=\"text-align: right;\">\n",
       "      <th></th>\n",
       "      <th>Maker</th>\n",
       "      <th>Year</th>\n",
       "      <th>Colour</th>\n",
       "      <th>Distance</th>\n",
       "      <th>coded_Foreign Used</th>\n",
       "      <th>coded_Nigerian Used</th>\n",
       "      <th>coded_Ibadan</th>\n",
       "      <th>coded_Lagos</th>\n",
       "    </tr>\n",
       "  </thead>\n",
       "  <tbody>\n",
       "    <tr>\n",
       "      <th>1315</th>\n",
       "      <td>0.537037</td>\n",
       "      <td>0.787879</td>\n",
       "      <td>0.95</td>\n",
       "      <td>0.715240</td>\n",
       "      <td>1.0</td>\n",
       "      <td>0.0</td>\n",
       "      <td>0.0</td>\n",
       "      <td>1.0</td>\n",
       "    </tr>\n",
       "    <tr>\n",
       "      <th>5101</th>\n",
       "      <td>0.537037</td>\n",
       "      <td>0.454545</td>\n",
       "      <td>0.80</td>\n",
       "      <td>0.965956</td>\n",
       "      <td>0.0</td>\n",
       "      <td>1.0</td>\n",
       "      <td>0.0</td>\n",
       "      <td>0.0</td>\n",
       "    </tr>\n",
       "    <tr>\n",
       "      <th>3932</th>\n",
       "      <td>0.537037</td>\n",
       "      <td>0.545455</td>\n",
       "      <td>0.10</td>\n",
       "      <td>0.316895</td>\n",
       "      <td>0.0</td>\n",
       "      <td>1.0</td>\n",
       "      <td>1.0</td>\n",
       "      <td>0.0</td>\n",
       "    </tr>\n",
       "  </tbody>\n",
       "</table>\n",
       "</div>"
      ],
      "text/plain": [
       "         Maker      Year  Colour  Distance  coded_Foreign Used  \\\n",
       "1315  0.537037  0.787879    0.95  0.715240                 1.0   \n",
       "5101  0.537037  0.454545    0.80  0.965956                 0.0   \n",
       "3932  0.537037  0.545455    0.10  0.316895                 0.0   \n",
       "\n",
       "      coded_Nigerian Used  coded_Ibadan  coded_Lagos  \n",
       "1315                  0.0           0.0          1.0  \n",
       "5101                  1.0           0.0          0.0  \n",
       "3932                  1.0           1.0          0.0  "
      ]
     },
     "execution_count": 94,
     "metadata": {},
     "output_type": "execute_result"
    }
   ],
   "source": [
    "X_train.head(3)"
   ]
  },
  {
   "cell_type": "code",
   "execution_count": 95,
   "id": "00404d1b",
   "metadata": {},
   "outputs": [],
   "source": [
    "from sklearn.linear_model import LinearRegression"
   ]
  },
  {
   "cell_type": "code",
   "execution_count": 96,
   "id": "ba40b223",
   "metadata": {},
   "outputs": [],
   "source": [
    "dt = LinearRegression()"
   ]
  },
  {
   "cell_type": "code",
   "execution_count": 97,
   "id": "bf1873bc",
   "metadata": {},
   "outputs": [
    {
     "data": {
      "text/plain": [
       "LinearRegression()"
      ]
     },
     "execution_count": 97,
     "metadata": {},
     "output_type": "execute_result"
    }
   ],
   "source": [
    "dt.fit(X_train, y_train)"
   ]
  },
  {
   "cell_type": "code",
   "execution_count": 98,
   "id": "c6ad6beb",
   "metadata": {},
   "outputs": [],
   "source": [
    "dt_pred = dt.predict(X_test)"
   ]
  },
  {
   "cell_type": "code",
   "execution_count": 99,
   "id": "8e283842",
   "metadata": {},
   "outputs": [
    {
     "data": {
      "text/plain": [
       "array([ 8.72867132, 16.93336757, 18.8516138 ])"
      ]
     },
     "execution_count": 99,
     "metadata": {},
     "output_type": "execute_result"
    }
   ],
   "source": [
    "dt_pred[:3]"
   ]
  },
  {
   "cell_type": "code",
   "execution_count": 100,
   "id": "cb7a2c4c",
   "metadata": {},
   "outputs": [],
   "source": [
    "from sklearn.tree import DecisionTreeRegressor   # algorithm alternative to linear regression\n",
    "from sklearn.metrics import r2_score, mean_absolute_error # for evaluation\n",
    "from sklearn.metrics import mean_squared_error"
   ]
  },
  {
   "cell_type": "code",
   "execution_count": 101,
   "id": "6113a5ea",
   "metadata": {},
   "outputs": [
    {
     "name": "stdout",
     "output_type": "stream",
     "text": [
      "R2:  0.2626294173930117\n",
      "mae:  6.947245439353033\n",
      "mse:  323.93629526390464\n"
     ]
    }
   ],
   "source": [
    "print('R2: ', r2_score(y_test, dt_pred))\n",
    "print('mae: ', mean_absolute_error(y_test, dt_pred))\n",
    "\n",
    "print('mse: ', mean_squared_error(y_test, dt_pred))"
   ]
  },
  {
   "cell_type": "code",
   "execution_count": 102,
   "id": "aeb0bd8c",
   "metadata": {},
   "outputs": [
    {
     "data": {
      "text/plain": [
       "array([ 5.5, 12.5, 16.8])"
      ]
     },
     "execution_count": 102,
     "metadata": {},
     "output_type": "execute_result"
    }
   ],
   "source": [
    "dr = DecisionTreeRegressor()\n",
    "dr.fit(X_train, y_train)\n",
    "dr_pred = dr.predict(X_test)\n",
    "dr_pred[:3]"
   ]
  },
  {
   "cell_type": "code",
   "execution_count": 103,
   "id": "90074fba",
   "metadata": {},
   "outputs": [
    {
     "name": "stdout",
     "output_type": "stream",
     "text": [
      "R2:  0.3503069917714118\n",
      "mae:  5.290767383387052\n",
      "mse:  285.4184193249857\n"
     ]
    }
   ],
   "source": [
    "print('R2: ', r2_score(y_test, dr_pred))\n",
    "print('mae: ', mean_absolute_error(y_test, dr_pred))\n",
    "\n",
    "print('mse: ', mean_squared_error(y_test, dr_pred))"
   ]
  },
  {
   "cell_type": "code",
   "execution_count": 104,
   "id": "ae82b373",
   "metadata": {},
   "outputs": [
    {
     "data": {
      "text/plain": [
       "XGBRegressor(base_score=0.5, booster='gbtree', callbacks=None,\n",
       "             colsample_bylevel=1, colsample_bynode=1, colsample_bytree=1,\n",
       "             early_stopping_rounds=None, enable_categorical=False,\n",
       "             eval_metric=None, gamma=0, gpu_id=-1, grow_policy='depthwise',\n",
       "             importance_type=None, interaction_constraints='',\n",
       "             learning_rate=0.300000012, max_bin=256, max_cat_to_onehot=4,\n",
       "             max_delta_step=0, max_depth=6, max_leaves=0, min_child_weight=1,\n",
       "             missing=nan, monotone_constraints='()', n_estimators=100, n_jobs=0,\n",
       "             num_parallel_tree=1, predictor='auto', random_state=0, reg_alpha=0,\n",
       "             reg_lambda=1, ...)"
      ]
     },
     "execution_count": 104,
     "metadata": {},
     "output_type": "execute_result"
    }
   ],
   "source": [
    "from xgboost import XGBRegressor\n",
    "xgb = XGBRegressor()\n",
    "xgb.fit(X_train, y_train)"
   ]
  },
  {
   "cell_type": "code",
   "execution_count": 105,
   "id": "7d416777",
   "metadata": {},
   "outputs": [
    {
     "data": {
      "text/plain": [
       "array([ 7.456703, 13.908311, 21.30121 ], dtype=float32)"
      ]
     },
     "execution_count": 105,
     "metadata": {},
     "output_type": "execute_result"
    }
   ],
   "source": [
    "xgb_pred = xgb.predict(X_test)\n",
    "xgb_pred[:3]"
   ]
  },
  {
   "cell_type": "code",
   "execution_count": 106,
   "id": "608529b4",
   "metadata": {},
   "outputs": [
    {
     "name": "stdout",
     "output_type": "stream",
     "text": [
      "R2:  0.6759791965742428\n",
      "mae:  4.293771763494289\n",
      "mse:  142.34646882586247\n"
     ]
    }
   ],
   "source": [
    "print('R2: ', r2_score(y_test, xgb_pred))\n",
    "print('mae: ', mean_absolute_error(y_test, xgb_pred))\n",
    "\n",
    "print('mse: ', mean_squared_error(y_test, xgb_pred))\n"
   ]
  },
  {
   "cell_type": "code",
   "execution_count": 107,
   "id": "ac892bbd",
   "metadata": {},
   "outputs": [
    {
     "data": {
      "text/plain": [
       "11.930903940014876"
      ]
     },
     "execution_count": 107,
     "metadata": {},
     "output_type": "execute_result"
    }
   ],
   "source": [
    "from math import sqrt  #function for square\n",
    "\n",
    "sqrt(mean_squared_error(y_test, xgb_pred))\n",
    "\n",
    "\n",
    "\n"
   ]
  },
  {
   "cell_type": "code",
   "execution_count": 108,
   "id": "4ee3424a",
   "metadata": {},
   "outputs": [
    {
     "data": {
      "text/plain": [
       "17.998230337005488"
      ]
     },
     "execution_count": 108,
     "metadata": {},
     "output_type": "execute_result"
    }
   ],
   "source": [
    "sqrt(mean_squared_error(y_test, dt_pred))"
   ]
  },
  {
   "cell_type": "code",
   "execution_count": 109,
   "id": "fdff850a",
   "metadata": {},
   "outputs": [
    {
     "data": {
      "text/plain": [
       "16.89433098187039"
      ]
     },
     "execution_count": 109,
     "metadata": {},
     "output_type": "execute_result"
    }
   ],
   "source": [
    "sqrt(mean_squared_error(y_test, dr_pred))"
   ]
  },
  {
   "cell_type": "code",
   "execution_count": 110,
   "id": "dd6d96d0",
   "metadata": {},
   "outputs": [],
   "source": [
    "dr = pd.read_csv(\"Test.csv\")"
   ]
  },
  {
   "cell_type": "code",
   "execution_count": 111,
   "id": "593a2ddc",
   "metadata": {},
   "outputs": [
    {
     "data": {
      "text/html": [
       "<div>\n",
       "<style scoped>\n",
       "    .dataframe tbody tr th:only-of-type {\n",
       "        vertical-align: middle;\n",
       "    }\n",
       "\n",
       "    .dataframe tbody tr th {\n",
       "        vertical-align: top;\n",
       "    }\n",
       "\n",
       "    .dataframe thead th {\n",
       "        text-align: right;\n",
       "    }\n",
       "</style>\n",
       "<table border=\"1\" class=\"dataframe\">\n",
       "  <thead>\n",
       "    <tr style=\"text-align: right;\">\n",
       "      <th></th>\n",
       "      <th>VehicleID</th>\n",
       "      <th>Location</th>\n",
       "      <th>Maker</th>\n",
       "      <th>Model</th>\n",
       "      <th>Year</th>\n",
       "      <th>Colour</th>\n",
       "      <th>Type</th>\n",
       "      <th>Distance</th>\n",
       "    </tr>\n",
       "  </thead>\n",
       "  <tbody>\n",
       "    <tr>\n",
       "      <th>0</th>\n",
       "      <td>VHL18518</td>\n",
       "      <td>Abuja</td>\n",
       "      <td>BMW</td>\n",
       "      <td>323i</td>\n",
       "      <td>2,008</td>\n",
       "      <td>White</td>\n",
       "      <td>Foreign Used</td>\n",
       "      <td>30524.0</td>\n",
       "    </tr>\n",
       "    <tr>\n",
       "      <th>1</th>\n",
       "      <td>VHL17149</td>\n",
       "      <td>Lagos</td>\n",
       "      <td>Toyota</td>\n",
       "      <td>Camry</td>\n",
       "      <td>2,013</td>\n",
       "      <td>White</td>\n",
       "      <td>Foreign Used</td>\n",
       "      <td>NaN</td>\n",
       "    </tr>\n",
       "    <tr>\n",
       "      <th>2</th>\n",
       "      <td>VHL10927</td>\n",
       "      <td>Lagos</td>\n",
       "      <td>Toyota</td>\n",
       "      <td>Highlander Limited V6</td>\n",
       "      <td>2,005</td>\n",
       "      <td>Gold</td>\n",
       "      <td>Foreign Used</td>\n",
       "      <td>NaN</td>\n",
       "    </tr>\n",
       "    <tr>\n",
       "      <th>3</th>\n",
       "      <td>VHL12909</td>\n",
       "      <td>Lagos</td>\n",
       "      <td>Toyota</td>\n",
       "      <td>Camry</td>\n",
       "      <td>2,011</td>\n",
       "      <td>Gray</td>\n",
       "      <td>Foreign Used</td>\n",
       "      <td>166839.0</td>\n",
       "    </tr>\n",
       "    <tr>\n",
       "      <th>4</th>\n",
       "      <td>VHL12348</td>\n",
       "      <td>Lagos</td>\n",
       "      <td>Lexus</td>\n",
       "      <td>ES 350 FWD</td>\n",
       "      <td>2,013</td>\n",
       "      <td>Red</td>\n",
       "      <td>Foreign Used</td>\n",
       "      <td>88862.0</td>\n",
       "    </tr>\n",
       "    <tr>\n",
       "      <th>...</th>\n",
       "      <td>...</td>\n",
       "      <td>...</td>\n",
       "      <td>...</td>\n",
       "      <td>...</td>\n",
       "      <td>...</td>\n",
       "      <td>...</td>\n",
       "      <td>...</td>\n",
       "      <td>...</td>\n",
       "    </tr>\n",
       "    <tr>\n",
       "      <th>2056</th>\n",
       "      <td>VHL17903</td>\n",
       "      <td>Abuja</td>\n",
       "      <td>Toyota</td>\n",
       "      <td>Avalon</td>\n",
       "      <td>2,020</td>\n",
       "      <td>Red</td>\n",
       "      <td>Foreign Used</td>\n",
       "      <td>2650.0</td>\n",
       "    </tr>\n",
       "    <tr>\n",
       "      <th>2057</th>\n",
       "      <td>VHL14018</td>\n",
       "      <td>Ibadan</td>\n",
       "      <td>Audi</td>\n",
       "      <td>Q5</td>\n",
       "      <td>2,011</td>\n",
       "      <td>Blue</td>\n",
       "      <td>Foreign Used</td>\n",
       "      <td>99000.0</td>\n",
       "    </tr>\n",
       "    <tr>\n",
       "      <th>2058</th>\n",
       "      <td>VHL17473</td>\n",
       "      <td>Ibadan</td>\n",
       "      <td>Toyota</td>\n",
       "      <td>Camry</td>\n",
       "      <td>2,015</td>\n",
       "      <td>Black</td>\n",
       "      <td>Foreign Used</td>\n",
       "      <td>108000.0</td>\n",
       "    </tr>\n",
       "    <tr>\n",
       "      <th>2059</th>\n",
       "      <td>VHL11480</td>\n",
       "      <td>Abuja</td>\n",
       "      <td>Lexus</td>\n",
       "      <td>IS 350 AWD</td>\n",
       "      <td>2,013</td>\n",
       "      <td>White</td>\n",
       "      <td>Foreign Used</td>\n",
       "      <td>52485.0</td>\n",
       "    </tr>\n",
       "    <tr>\n",
       "      <th>2060</th>\n",
       "      <td>VHL13881</td>\n",
       "      <td>Abuja</td>\n",
       "      <td>Pontiac</td>\n",
       "      <td>Torrent</td>\n",
       "      <td>2,009</td>\n",
       "      <td>Silver</td>\n",
       "      <td>Foreign Used</td>\n",
       "      <td>124088.0</td>\n",
       "    </tr>\n",
       "  </tbody>\n",
       "</table>\n",
       "<p>2061 rows × 8 columns</p>\n",
       "</div>"
      ],
      "text/plain": [
       "     VehicleID Location    Maker                  Model   Year  Colour  \\\n",
       "0     VHL18518    Abuja      BMW                   323i  2,008   White   \n",
       "1     VHL17149    Lagos   Toyota                  Camry  2,013   White   \n",
       "2     VHL10927    Lagos   Toyota  Highlander Limited V6  2,005    Gold   \n",
       "3     VHL12909    Lagos   Toyota                  Camry  2,011    Gray   \n",
       "4     VHL12348    Lagos    Lexus             ES 350 FWD  2,013     Red   \n",
       "...        ...      ...      ...                    ...    ...     ...   \n",
       "2056  VHL17903    Abuja   Toyota                 Avalon  2,020     Red   \n",
       "2057  VHL14018   Ibadan     Audi                     Q5  2,011    Blue   \n",
       "2058  VHL17473   Ibadan   Toyota                  Camry  2,015   Black   \n",
       "2059  VHL11480    Abuja    Lexus             IS 350 AWD  2,013   White   \n",
       "2060  VHL13881    Abuja  Pontiac                Torrent  2,009  Silver   \n",
       "\n",
       "              Type  Distance  \n",
       "0     Foreign Used   30524.0  \n",
       "1     Foreign Used       NaN  \n",
       "2     Foreign Used       NaN  \n",
       "3     Foreign Used  166839.0  \n",
       "4     Foreign Used   88862.0  \n",
       "...            ...       ...  \n",
       "2056  Foreign Used    2650.0  \n",
       "2057  Foreign Used   99000.0  \n",
       "2058  Foreign Used  108000.0  \n",
       "2059  Foreign Used   52485.0  \n",
       "2060  Foreign Used  124088.0  \n",
       "\n",
       "[2061 rows x 8 columns]"
      ]
     },
     "execution_count": 111,
     "metadata": {},
     "output_type": "execute_result"
    }
   ],
   "source": [
    "dr\n"
   ]
  },
  {
   "cell_type": "code",
   "execution_count": 112,
   "id": "d1b5fcb7",
   "metadata": {},
   "outputs": [
    {
     "name": "stdout",
     "output_type": "stream",
     "text": [
      "<class 'pandas.core.frame.DataFrame'>\n",
      "RangeIndex: 2061 entries, 0 to 2060\n",
      "Data columns (total 8 columns):\n",
      " #   Column     Non-Null Count  Dtype  \n",
      "---  ------     --------------  -----  \n",
      " 0   VehicleID  2061 non-null   object \n",
      " 1   Location   2061 non-null   object \n",
      " 2   Maker      2061 non-null   object \n",
      " 3   Model      2061 non-null   object \n",
      " 4   Year       2059 non-null   object \n",
      " 5   Colour     2061 non-null   object \n",
      " 6   Type       2007 non-null   object \n",
      " 7   Distance   1385 non-null   float64\n",
      "dtypes: float64(1), object(7)\n",
      "memory usage: 128.9+ KB\n"
     ]
    }
   ],
   "source": [
    "dr.info()"
   ]
  },
  {
   "cell_type": "code",
   "execution_count": 113,
   "id": "a85a0252",
   "metadata": {},
   "outputs": [
    {
     "data": {
      "text/plain": [
       "(2061, 8)"
      ]
     },
     "execution_count": 113,
     "metadata": {},
     "output_type": "execute_result"
    }
   ],
   "source": [
    "dr.shape"
   ]
  },
  {
   "cell_type": "code",
   "execution_count": 114,
   "id": "365f49c5",
   "metadata": {},
   "outputs": [],
   "source": [
    "dr.drop(\"Model\", axis = 1, inplace = True)"
   ]
  },
  {
   "cell_type": "code",
   "execution_count": 115,
   "id": "3c98ed8e",
   "metadata": {},
   "outputs": [],
   "source": [
    "dr.Year = dr.Year.fillna(value = '2008')"
   ]
  },
  {
   "cell_type": "code",
   "execution_count": 116,
   "id": "f7949038",
   "metadata": {},
   "outputs": [
    {
     "data": {
      "text/plain": [
       "0"
      ]
     },
     "execution_count": 116,
     "metadata": {},
     "output_type": "execute_result"
    }
   ],
   "source": [
    "dr.Year.isnull().sum()"
   ]
  },
  {
   "cell_type": "code",
   "execution_count": 117,
   "id": "dc01ea25",
   "metadata": {},
   "outputs": [
    {
     "data": {
      "text/plain": [
       "Foreign Used     1390\n",
       "Nigerian Used     547\n",
       "Brand New          70\n",
       "Name: Type, dtype: int64"
      ]
     },
     "execution_count": 117,
     "metadata": {},
     "output_type": "execute_result"
    }
   ],
   "source": [
    "dr.Type.value_counts()"
   ]
  },
  {
   "cell_type": "code",
   "execution_count": 118,
   "id": "4181aeb5",
   "metadata": {},
   "outputs": [],
   "source": [
    "dr.Type = dr.Type.fillna(value = 'Foreign Used')"
   ]
  },
  {
   "cell_type": "code",
   "execution_count": 119,
   "id": "99c3de7c",
   "metadata": {},
   "outputs": [
    {
     "data": {
      "text/plain": [
       "0"
      ]
     },
     "execution_count": 119,
     "metadata": {},
     "output_type": "execute_result"
    }
   ],
   "source": [
    "dr.Type.isnull().sum()"
   ]
  },
  {
   "cell_type": "code",
   "execution_count": 120,
   "id": "1fc27fd2",
   "metadata": {},
   "outputs": [],
   "source": [
    "meann = np.mean(dr.Distance)"
   ]
  },
  {
   "cell_type": "code",
   "execution_count": 121,
   "id": "8754d2dd",
   "metadata": {},
   "outputs": [
    {
     "data": {
      "text/plain": [
       "103800.66859205776"
      ]
     },
     "execution_count": 121,
     "metadata": {},
     "output_type": "execute_result"
    }
   ],
   "source": [
    "meann"
   ]
  },
  {
   "cell_type": "code",
   "execution_count": 122,
   "id": "13d715fa",
   "metadata": {},
   "outputs": [],
   "source": [
    "dr.Distance= dr.Distance.fillna(value = 103800.66859205776)"
   ]
  },
  {
   "cell_type": "code",
   "execution_count": 123,
   "id": "8ade89d1",
   "metadata": {},
   "outputs": [
    {
     "name": "stdout",
     "output_type": "stream",
     "text": [
      "<class 'pandas.core.frame.DataFrame'>\n",
      "RangeIndex: 2061 entries, 0 to 2060\n",
      "Data columns (total 7 columns):\n",
      " #   Column     Non-Null Count  Dtype  \n",
      "---  ------     --------------  -----  \n",
      " 0   VehicleID  2061 non-null   object \n",
      " 1   Location   2061 non-null   object \n",
      " 2   Maker      2061 non-null   object \n",
      " 3   Year       2061 non-null   object \n",
      " 4   Colour     2061 non-null   object \n",
      " 5   Type       2061 non-null   object \n",
      " 6   Distance   2061 non-null   float64\n",
      "dtypes: float64(1), object(6)\n",
      "memory usage: 112.8+ KB\n"
     ]
    }
   ],
   "source": [
    "dr.info()"
   ]
  },
  {
   "cell_type": "code",
   "execution_count": 124,
   "id": "a0298cb5",
   "metadata": {},
   "outputs": [
    {
     "name": "stdout",
     "output_type": "stream",
     "text": [
      "VehicleID:['VHL18518' 'VHL17149' 'VHL10927' ... 'VHL17473' 'VHL11480' 'VHL13881']\n",
      "\n",
      "Location:['Abuja' 'Lagos' 'Ibadan']\n",
      "\n",
      "Maker:['BMW' 'Toyota' 'Lexus' 'Mercedes-Benz' 'Honda' 'Pontiac' 'Hyundai'\n",
      " 'Land Rover' 'Mitsubishi' 'Volkswagen' 'Acura' 'Mazda' 'Ford' 'Jaguar'\n",
      " 'Opel' 'Infiniti' 'Kia' 'Peugeot' 'Nissan' 'Chevrolet' 'Cadillac' 'Seat'\n",
      " 'Audi' 'Porsche' 'Dodge' 'GMC' 'Renault' 'Lincoln' 'Maserati' 'Chrysler'\n",
      " 'Fiat' 'Subaru' 'Mini' 'Scion' 'Buick' 'Rolls-Royce' 'Volvo' 'Jeep'\n",
      " 'Lamborghini' 'Brabus']\n",
      "\n",
      "Year:['2,008' '2,013' '2,005' '2,011' '2,017' '1,999' '2,019' '2,006' '2,015'\n",
      " '2,007' '2,012' '2,016' '2,010' '2,003' '2,004' '2,021' '2008' '2,018'\n",
      " '2,014' '2,009' '2,001' '2,022' '2,002' '2,020' '1,997' '2,000' '1,998'\n",
      " '1,986' '1,991' '1,982']\n",
      "\n",
      "Colour:['White' 'Gold' 'Gray' 'Red' 'Black' 'Blue' 'Silver' 'Brown' 'Green'\n",
      " 'Purple' 'Beige' 'Burgandy' 'Auto' 'Cream' 'Pink' 'Yellow' 'V' 'Teal']\n",
      "\n",
      "Type:['Foreign Used' 'Nigerian Used' 'Brand New']\n",
      "\n",
      "Distance:[ 30524.         103800.66859206 166839.         ...   2650.\n",
      "  52485.         124088.        ]\n",
      "\n"
     ]
    }
   ],
   "source": [
    "for col in dr.columns:\n",
    "    print(col, dr[col].unique(), sep = \":\", end = '\\n\\n' )"
   ]
  },
  {
   "cell_type": "code",
   "execution_count": 125,
   "id": "b96fd446",
   "metadata": {},
   "outputs": [],
   "source": [
    "dr[\"Year\"] = lab_enc.fit_transform(dr[\"Year\"])\n",
    "dr[\"Colour\"] = lab_enc.fit_transform(dr[\"Colour\"])\n",
    "dr[\"Maker\"] = lab_enc.fit_transform(dr[\"Maker\"])\n",
    "dr[\"Maker\"] = lab_enc.fit_transform(dr[\"Distance\"])"
   ]
  },
  {
   "cell_type": "code",
   "execution_count": 126,
   "id": "3e20b29b",
   "metadata": {},
   "outputs": [
    {
     "data": {
      "text/html": [
       "<div>\n",
       "<style scoped>\n",
       "    .dataframe tbody tr th:only-of-type {\n",
       "        vertical-align: middle;\n",
       "    }\n",
       "\n",
       "    .dataframe tbody tr th {\n",
       "        vertical-align: top;\n",
       "    }\n",
       "\n",
       "    .dataframe thead th {\n",
       "        text-align: right;\n",
       "    }\n",
       "</style>\n",
       "<table border=\"1\" class=\"dataframe\">\n",
       "  <thead>\n",
       "    <tr style=\"text-align: right;\">\n",
       "      <th></th>\n",
       "      <th>VehicleID</th>\n",
       "      <th>Maker</th>\n",
       "      <th>Year</th>\n",
       "      <th>Colour</th>\n",
       "      <th>Distance</th>\n",
       "      <th>coded_Foreign Used</th>\n",
       "      <th>coded_Nigerian Used</th>\n",
       "      <th>coded_Ibadan</th>\n",
       "      <th>coded_Lagos</th>\n",
       "    </tr>\n",
       "  </thead>\n",
       "  <tbody>\n",
       "    <tr>\n",
       "      <th>0</th>\n",
       "      <td>VHL18518</td>\n",
       "      <td>131</td>\n",
       "      <td>14</td>\n",
       "      <td>16</td>\n",
       "      <td>30524.000000</td>\n",
       "      <td>1</td>\n",
       "      <td>0</td>\n",
       "      <td>0</td>\n",
       "      <td>0</td>\n",
       "    </tr>\n",
       "    <tr>\n",
       "      <th>1</th>\n",
       "      <td>VHL17149</td>\n",
       "      <td>626</td>\n",
       "      <td>19</td>\n",
       "      <td>16</td>\n",
       "      <td>103800.668592</td>\n",
       "      <td>1</td>\n",
       "      <td>0</td>\n",
       "      <td>0</td>\n",
       "      <td>1</td>\n",
       "    </tr>\n",
       "    <tr>\n",
       "      <th>2</th>\n",
       "      <td>VHL10927</td>\n",
       "      <td>626</td>\n",
       "      <td>11</td>\n",
       "      <td>7</td>\n",
       "      <td>103800.668592</td>\n",
       "      <td>1</td>\n",
       "      <td>0</td>\n",
       "      <td>0</td>\n",
       "      <td>1</td>\n",
       "    </tr>\n",
       "    <tr>\n",
       "      <th>3</th>\n",
       "      <td>VHL12909</td>\n",
       "      <td>839</td>\n",
       "      <td>17</td>\n",
       "      <td>8</td>\n",
       "      <td>166839.000000</td>\n",
       "      <td>1</td>\n",
       "      <td>0</td>\n",
       "      <td>0</td>\n",
       "      <td>1</td>\n",
       "    </tr>\n",
       "    <tr>\n",
       "      <th>4</th>\n",
       "      <td>VHL12348</td>\n",
       "      <td>528</td>\n",
       "      <td>19</td>\n",
       "      <td>12</td>\n",
       "      <td>88862.000000</td>\n",
       "      <td>1</td>\n",
       "      <td>0</td>\n",
       "      <td>0</td>\n",
       "      <td>1</td>\n",
       "    </tr>\n",
       "    <tr>\n",
       "      <th>...</th>\n",
       "      <td>...</td>\n",
       "      <td>...</td>\n",
       "      <td>...</td>\n",
       "      <td>...</td>\n",
       "      <td>...</td>\n",
       "      <td>...</td>\n",
       "      <td>...</td>\n",
       "      <td>...</td>\n",
       "      <td>...</td>\n",
       "    </tr>\n",
       "    <tr>\n",
       "      <th>2056</th>\n",
       "      <td>VHL17903</td>\n",
       "      <td>32</td>\n",
       "      <td>26</td>\n",
       "      <td>12</td>\n",
       "      <td>2650.000000</td>\n",
       "      <td>1</td>\n",
       "      <td>0</td>\n",
       "      <td>0</td>\n",
       "      <td>0</td>\n",
       "    </tr>\n",
       "    <tr>\n",
       "      <th>2057</th>\n",
       "      <td>VHL14018</td>\n",
       "      <td>604</td>\n",
       "      <td>17</td>\n",
       "      <td>3</td>\n",
       "      <td>99000.000000</td>\n",
       "      <td>1</td>\n",
       "      <td>0</td>\n",
       "      <td>1</td>\n",
       "      <td>0</td>\n",
       "    </tr>\n",
       "    <tr>\n",
       "      <th>2058</th>\n",
       "      <td>VHL17473</td>\n",
       "      <td>643</td>\n",
       "      <td>21</td>\n",
       "      <td>2</td>\n",
       "      <td>108000.000000</td>\n",
       "      <td>1</td>\n",
       "      <td>0</td>\n",
       "      <td>1</td>\n",
       "      <td>0</td>\n",
       "    </tr>\n",
       "    <tr>\n",
       "      <th>2059</th>\n",
       "      <td>VHL11480</td>\n",
       "      <td>244</td>\n",
       "      <td>19</td>\n",
       "      <td>16</td>\n",
       "      <td>52485.000000</td>\n",
       "      <td>1</td>\n",
       "      <td>0</td>\n",
       "      <td>0</td>\n",
       "      <td>0</td>\n",
       "    </tr>\n",
       "    <tr>\n",
       "      <th>2060</th>\n",
       "      <td>VHL13881</td>\n",
       "      <td>722</td>\n",
       "      <td>15</td>\n",
       "      <td>13</td>\n",
       "      <td>124088.000000</td>\n",
       "      <td>1</td>\n",
       "      <td>0</td>\n",
       "      <td>0</td>\n",
       "      <td>0</td>\n",
       "    </tr>\n",
       "  </tbody>\n",
       "</table>\n",
       "<p>2061 rows × 9 columns</p>\n",
       "</div>"
      ],
      "text/plain": [
       "     VehicleID  Maker  Year  Colour       Distance  coded_Foreign Used  \\\n",
       "0     VHL18518    131    14      16   30524.000000                   1   \n",
       "1     VHL17149    626    19      16  103800.668592                   1   \n",
       "2     VHL10927    626    11       7  103800.668592                   1   \n",
       "3     VHL12909    839    17       8  166839.000000                   1   \n",
       "4     VHL12348    528    19      12   88862.000000                   1   \n",
       "...        ...    ...   ...     ...            ...                 ...   \n",
       "2056  VHL17903     32    26      12    2650.000000                   1   \n",
       "2057  VHL14018    604    17       3   99000.000000                   1   \n",
       "2058  VHL17473    643    21       2  108000.000000                   1   \n",
       "2059  VHL11480    244    19      16   52485.000000                   1   \n",
       "2060  VHL13881    722    15      13  124088.000000                   1   \n",
       "\n",
       "      coded_Nigerian Used  coded_Ibadan  coded_Lagos  \n",
       "0                       0             0            0  \n",
       "1                       0             0            1  \n",
       "2                       0             0            1  \n",
       "3                       0             0            1  \n",
       "4                       0             0            1  \n",
       "...                   ...           ...          ...  \n",
       "2056                    0             0            0  \n",
       "2057                    0             1            0  \n",
       "2058                    0             1            0  \n",
       "2059                    0             0            0  \n",
       "2060                    0             0            0  \n",
       "\n",
       "[2061 rows x 9 columns]"
      ]
     },
     "execution_count": 126,
     "metadata": {},
     "output_type": "execute_result"
    }
   ],
   "source": [
    "col_to_encod = ['Type',  'Location']\n",
    "encod = get_dummies(dr, columns=col_to_encod, prefix='coded', drop_first = True)\n",
    "encod"
   ]
  },
  {
   "cell_type": "code",
   "execution_count": 127,
   "id": "2447f877",
   "metadata": {},
   "outputs": [],
   "source": [
    "X =  encod.drop(\"VehicleID\", axis = 1)\n",
    "# y =  encoded[\"Amount (Million Naira)\"]  #data.tip"
   ]
  },
  {
   "cell_type": "code",
   "execution_count": 128,
   "id": "b59db1bb",
   "metadata": {},
   "outputs": [
    {
     "data": {
      "text/plain": [
       "array([[0.12843137, 0.48275862, 0.94117647, ..., 0.        , 0.        ,\n",
       "        0.        ],\n",
       "       [0.61372549, 0.65517241, 0.94117647, ..., 0.        , 0.        ,\n",
       "        1.        ],\n",
       "       [0.61372549, 0.37931034, 0.41176471, ..., 0.        , 0.        ,\n",
       "        1.        ],\n",
       "       ...,\n",
       "       [0.63039216, 0.72413793, 0.11764706, ..., 0.        , 1.        ,\n",
       "        0.        ],\n",
       "       [0.23921569, 0.65517241, 0.94117647, ..., 0.        , 0.        ,\n",
       "        0.        ],\n",
       "       [0.70784314, 0.51724138, 0.76470588, ..., 0.        , 0.        ,\n",
       "        0.        ]])"
      ]
     },
     "execution_count": 128,
     "metadata": {},
     "output_type": "execute_result"
    }
   ],
   "source": [
    "scaled_xx = scaler.fit_transform(X) \n",
    "scaled_xx"
   ]
  },
  {
   "cell_type": "code",
   "execution_count": 129,
   "id": "a5613a10",
   "metadata": {},
   "outputs": [
    {
     "data": {
      "text/html": [
       "<div>\n",
       "<style scoped>\n",
       "    .dataframe tbody tr th:only-of-type {\n",
       "        vertical-align: middle;\n",
       "    }\n",
       "\n",
       "    .dataframe tbody tr th {\n",
       "        vertical-align: top;\n",
       "    }\n",
       "\n",
       "    .dataframe thead th {\n",
       "        text-align: right;\n",
       "    }\n",
       "</style>\n",
       "<table border=\"1\" class=\"dataframe\">\n",
       "  <thead>\n",
       "    <tr style=\"text-align: right;\">\n",
       "      <th></th>\n",
       "      <th>Maker</th>\n",
       "      <th>Year</th>\n",
       "      <th>Colour</th>\n",
       "      <th>Distance</th>\n",
       "      <th>coded_Foreign Used</th>\n",
       "      <th>coded_Nigerian Used</th>\n",
       "      <th>coded_Ibadan</th>\n",
       "      <th>coded_Lagos</th>\n",
       "    </tr>\n",
       "  </thead>\n",
       "  <tbody>\n",
       "    <tr>\n",
       "      <th>0</th>\n",
       "      <td>0.128431</td>\n",
       "      <td>0.482759</td>\n",
       "      <td>0.941176</td>\n",
       "      <td>0.030981</td>\n",
       "      <td>1.0</td>\n",
       "      <td>0.0</td>\n",
       "      <td>0.0</td>\n",
       "      <td>0.0</td>\n",
       "    </tr>\n",
       "    <tr>\n",
       "      <th>1</th>\n",
       "      <td>0.613725</td>\n",
       "      <td>0.655172</td>\n",
       "      <td>0.941176</td>\n",
       "      <td>0.105357</td>\n",
       "      <td>1.0</td>\n",
       "      <td>0.0</td>\n",
       "      <td>0.0</td>\n",
       "      <td>1.0</td>\n",
       "    </tr>\n",
       "    <tr>\n",
       "      <th>2</th>\n",
       "      <td>0.613725</td>\n",
       "      <td>0.379310</td>\n",
       "      <td>0.411765</td>\n",
       "      <td>0.105357</td>\n",
       "      <td>1.0</td>\n",
       "      <td>0.0</td>\n",
       "      <td>0.0</td>\n",
       "      <td>1.0</td>\n",
       "    </tr>\n",
       "    <tr>\n",
       "      <th>3</th>\n",
       "      <td>0.822549</td>\n",
       "      <td>0.586207</td>\n",
       "      <td>0.470588</td>\n",
       "      <td>0.169342</td>\n",
       "      <td>1.0</td>\n",
       "      <td>0.0</td>\n",
       "      <td>0.0</td>\n",
       "      <td>1.0</td>\n",
       "    </tr>\n",
       "    <tr>\n",
       "      <th>4</th>\n",
       "      <td>0.517647</td>\n",
       "      <td>0.655172</td>\n",
       "      <td>0.705882</td>\n",
       "      <td>0.090195</td>\n",
       "      <td>1.0</td>\n",
       "      <td>0.0</td>\n",
       "      <td>0.0</td>\n",
       "      <td>1.0</td>\n",
       "    </tr>\n",
       "  </tbody>\n",
       "</table>\n",
       "</div>"
      ],
      "text/plain": [
       "      Maker      Year    Colour  Distance  coded_Foreign Used  \\\n",
       "0  0.128431  0.482759  0.941176  0.030981                 1.0   \n",
       "1  0.613725  0.655172  0.941176  0.105357                 1.0   \n",
       "2  0.613725  0.379310  0.411765  0.105357                 1.0   \n",
       "3  0.822549  0.586207  0.470588  0.169342                 1.0   \n",
       "4  0.517647  0.655172  0.705882  0.090195                 1.0   \n",
       "\n",
       "   coded_Nigerian Used  coded_Ibadan  coded_Lagos  \n",
       "0                  0.0           0.0          0.0  \n",
       "1                  0.0           0.0          1.0  \n",
       "2                  0.0           0.0          1.0  \n",
       "3                  0.0           0.0          1.0  \n",
       "4                  0.0           0.0          1.0  "
      ]
     },
     "execution_count": 129,
     "metadata": {},
     "output_type": "execute_result"
    }
   ],
   "source": [
    "scaled_xx = pd.DataFrame(data = scaled_xx, index = X.index, columns = X.columns)\n",
    "scaled_xx.head()"
   ]
  },
  {
   "cell_type": "code",
   "execution_count": 130,
   "id": "1be1d555",
   "metadata": {},
   "outputs": [
    {
     "name": "stdout",
     "output_type": "stream",
     "text": [
      "<class 'pandas.core.frame.DataFrame'>\n",
      "Int64Index: 5764 entries, 1315 to 5925\n",
      "Data columns (total 8 columns):\n",
      " #   Column               Non-Null Count  Dtype  \n",
      "---  ------               --------------  -----  \n",
      " 0   Maker                5764 non-null   float64\n",
      " 1   Year                 5764 non-null   float64\n",
      " 2   Colour               5764 non-null   float64\n",
      " 3   Distance             5764 non-null   float64\n",
      " 4   coded_Foreign Used   5764 non-null   float64\n",
      " 5   coded_Nigerian Used  5764 non-null   float64\n",
      " 6   coded_Ibadan         5764 non-null   float64\n",
      " 7   coded_Lagos          5764 non-null   float64\n",
      "dtypes: float64(8)\n",
      "memory usage: 405.3 KB\n"
     ]
    }
   ],
   "source": [
    "X_train.info()"
   ]
  },
  {
   "cell_type": "code",
   "execution_count": 131,
   "id": "7569a335",
   "metadata": {},
   "outputs": [
    {
     "name": "stdout",
     "output_type": "stream",
     "text": [
      "<class 'pandas.core.frame.DataFrame'>\n",
      "RangeIndex: 2061 entries, 0 to 2060\n",
      "Data columns (total 8 columns):\n",
      " #   Column               Non-Null Count  Dtype  \n",
      "---  ------               --------------  -----  \n",
      " 0   Maker                2061 non-null   float64\n",
      " 1   Year                 2061 non-null   float64\n",
      " 2   Colour               2061 non-null   float64\n",
      " 3   Distance             2061 non-null   float64\n",
      " 4   coded_Foreign Used   2061 non-null   float64\n",
      " 5   coded_Nigerian Used  2061 non-null   float64\n",
      " 6   coded_Ibadan         2061 non-null   float64\n",
      " 7   coded_Lagos          2061 non-null   float64\n",
      "dtypes: float64(8)\n",
      "memory usage: 128.9 KB\n"
     ]
    }
   ],
   "source": [
    "scaled_xx.info()"
   ]
  },
  {
   "cell_type": "code",
   "execution_count": 132,
   "id": "6a3ba8b6",
   "metadata": {},
   "outputs": [
    {
     "data": {
      "text/plain": [
       "array([-0.34144503,  6.829136  ,  2.996089  ], dtype=float32)"
      ]
     },
     "execution_count": 132,
     "metadata": {},
     "output_type": "execute_result"
    }
   ],
   "source": [
    "from xgboost import XGBRegressor\n",
    "xgb = XGBRegressor()\n",
    "xgb.fit(X_train, y_train)\n",
    "xgb_predd = xgb.predict(scaled_xx)\n",
    "xgb_predd[:3]"
   ]
  },
  {
   "cell_type": "code",
   "execution_count": 133,
   "id": "89850c3e",
   "metadata": {},
   "outputs": [],
   "source": [
    "\n",
    "xgb_predd = pd.DataFrame(data = xgb_predd, columns = ['Amount (Million Naira)'])"
   ]
  },
  {
   "cell_type": "code",
   "execution_count": 134,
   "id": "b91f6ade",
   "metadata": {},
   "outputs": [
    {
     "name": "stdout",
     "output_type": "stream",
     "text": [
      "<class 'pandas.core.frame.DataFrame'>\n",
      "RangeIndex: 2061 entries, 0 to 2060\n",
      "Data columns (total 1 columns):\n",
      " #   Column                  Non-Null Count  Dtype  \n",
      "---  ------                  --------------  -----  \n",
      " 0   Amount (Million Naira)  2061 non-null   float32\n",
      "dtypes: float32(1)\n",
      "memory usage: 8.2 KB\n"
     ]
    }
   ],
   "source": [
    "\n",
    "xgb_predd.info()"
   ]
  },
  {
   "cell_type": "code",
   "execution_count": 135,
   "id": "6dfe67b8",
   "metadata": {},
   "outputs": [],
   "source": [
    "# pd.merge(dr, xgb_predd[[\"VehicleID\", \"Amount (Million Naira)\"]], on=\"VehicleID\", how=\"left\")\n",
    "# df_cd = pd.merge(dr, xgb_predd, how='inner', on = 'VehicleID')\n",
    "rr = pd.merge(dr.VehicleID,xgb_predd, how = 'inner', on = dr[\"VehicleID\"])\n",
    "rr.drop('key_0', axis = 1, inplace = True)"
   ]
  },
  {
   "cell_type": "code",
   "execution_count": 136,
   "id": "24e576e1",
   "metadata": {},
   "outputs": [
    {
     "data": {
      "text/html": [
       "<div>\n",
       "<style scoped>\n",
       "    .dataframe tbody tr th:only-of-type {\n",
       "        vertical-align: middle;\n",
       "    }\n",
       "\n",
       "    .dataframe tbody tr th {\n",
       "        vertical-align: top;\n",
       "    }\n",
       "\n",
       "    .dataframe thead th {\n",
       "        text-align: right;\n",
       "    }\n",
       "</style>\n",
       "<table border=\"1\" class=\"dataframe\">\n",
       "  <thead>\n",
       "    <tr style=\"text-align: right;\">\n",
       "      <th></th>\n",
       "      <th>VehicleID</th>\n",
       "      <th>Amount (Million Naira)</th>\n",
       "    </tr>\n",
       "  </thead>\n",
       "  <tbody>\n",
       "    <tr>\n",
       "      <th>0</th>\n",
       "      <td>VHL18518</td>\n",
       "      <td>-0.341445</td>\n",
       "    </tr>\n",
       "    <tr>\n",
       "      <th>1</th>\n",
       "      <td>VHL17149</td>\n",
       "      <td>6.829136</td>\n",
       "    </tr>\n",
       "    <tr>\n",
       "      <th>2</th>\n",
       "      <td>VHL17149</td>\n",
       "      <td>12.791060</td>\n",
       "    </tr>\n",
       "    <tr>\n",
       "      <th>3</th>\n",
       "      <td>VHL17149</td>\n",
       "      <td>6.829136</td>\n",
       "    </tr>\n",
       "    <tr>\n",
       "      <th>4</th>\n",
       "      <td>VHL17149</td>\n",
       "      <td>12.791060</td>\n",
       "    </tr>\n",
       "    <tr>\n",
       "      <th>...</th>\n",
       "      <td>...</td>\n",
       "      <td>...</td>\n",
       "    </tr>\n",
       "    <tr>\n",
       "      <th>2458</th>\n",
       "      <td>VHL17903</td>\n",
       "      <td>6.272153</td>\n",
       "    </tr>\n",
       "    <tr>\n",
       "      <th>2459</th>\n",
       "      <td>VHL14018</td>\n",
       "      <td>11.895899</td>\n",
       "    </tr>\n",
       "    <tr>\n",
       "      <th>2460</th>\n",
       "      <td>VHL17473</td>\n",
       "      <td>7.130605</td>\n",
       "    </tr>\n",
       "    <tr>\n",
       "      <th>2461</th>\n",
       "      <td>VHL11480</td>\n",
       "      <td>23.229563</td>\n",
       "    </tr>\n",
       "    <tr>\n",
       "      <th>2462</th>\n",
       "      <td>VHL13881</td>\n",
       "      <td>2.773290</td>\n",
       "    </tr>\n",
       "  </tbody>\n",
       "</table>\n",
       "<p>2463 rows × 2 columns</p>\n",
       "</div>"
      ],
      "text/plain": [
       "     VehicleID  Amount (Million Naira)\n",
       "0     VHL18518               -0.341445\n",
       "1     VHL17149                6.829136\n",
       "2     VHL17149               12.791060\n",
       "3     VHL17149                6.829136\n",
       "4     VHL17149               12.791060\n",
       "...        ...                     ...\n",
       "2458  VHL17903                6.272153\n",
       "2459  VHL14018               11.895899\n",
       "2460  VHL17473                7.130605\n",
       "2461  VHL11480               23.229563\n",
       "2462  VHL13881                2.773290\n",
       "\n",
       "[2463 rows x 2 columns]"
      ]
     },
     "execution_count": 136,
     "metadata": {},
     "output_type": "execute_result"
    }
   ],
   "source": [
    "rr"
   ]
  },
  {
   "cell_type": "code",
   "execution_count": 137,
   "id": "085befab",
   "metadata": {},
   "outputs": [],
   "source": [
    "rr.to_csv('finalre1sult.csv',index= False) #-- to remove the index"
   ]
  },
  {
   "cell_type": "code",
   "execution_count": null,
   "id": "ce7117df",
   "metadata": {},
   "outputs": [],
   "source": []
  },
  {
   "cell_type": "code",
   "execution_count": null,
   "id": "a495a1e4",
   "metadata": {},
   "outputs": [],
   "source": []
  }
 ],
 "metadata": {
  "kernelspec": {
   "display_name": "Python 3 (ipykernel)",
   "language": "python",
   "name": "python3"
  },
  "language_info": {
   "codemirror_mode": {
    "name": "ipython",
    "version": 3
   },
   "file_extension": ".py",
   "mimetype": "text/x-python",
   "name": "python",
   "nbconvert_exporter": "python",
   "pygments_lexer": "ipython3",
   "version": "3.9.7"
  }
 },
 "nbformat": 4,
 "nbformat_minor": 5
}
